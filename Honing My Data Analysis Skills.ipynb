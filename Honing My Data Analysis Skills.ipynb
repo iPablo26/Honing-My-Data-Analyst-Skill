{
 "cells": [
  {
   "cell_type": "markdown",
   "metadata": {},
   "source": [
    "### We have sleep data and we need to answer the question: You have an exam tomorrow, should you get a good night sleep? Would it matter?"
   ]
  },
  {
   "cell_type": "code",
   "execution_count": 1,
   "metadata": {
    "ExecuteTime": {
     "end_time": "2021-02-01T16:23:18.319789Z",
     "start_time": "2021-02-01T16:23:18.144658Z"
    }
   },
   "outputs": [
    {
     "name": "stdout",
     "output_type": "stream",
     "text": [
      "BBC Results .csv\r\n",
      "Data_Analyst.ipynb\r\n",
      "Facebook Friends  .csv\r\n",
      "Honing My Data Analysis Skills.ipynb\r\n",
      "How many Facebook friends do Udacians have.csv\r\n",
      "NHL - Problem Set 3 .csv\r\n",
      "README.md\r\n",
      "chopstick-effectiveness.csv\r\n"
     ]
    }
   ],
   "source": [
    "!ls"
   ]
  },
  {
   "cell_type": "code",
   "execution_count": 2,
   "metadata": {
    "ExecuteTime": {
     "end_time": "2021-02-01T16:23:22.974176Z",
     "start_time": "2021-02-01T16:23:18.334440Z"
    }
   },
   "outputs": [],
   "source": [
    "# Import pandas for data analysis and numpy for numerical analysis\n",
    "import pandas as pd\n",
    "import numpy as np"
   ]
  },
  {
   "cell_type": "code",
   "execution_count": 3,
   "metadata": {
    "ExecuteTime": {
     "end_time": "2021-02-01T16:23:23.067923Z",
     "start_time": "2021-02-01T16:23:22.977561Z"
    }
   },
   "outputs": [
    {
     "data": {
      "text/html": [
       "<div>\n",
       "<style scoped>\n",
       "    .dataframe tbody tr th:only-of-type {\n",
       "        vertical-align: middle;\n",
       "    }\n",
       "\n",
       "    .dataframe tbody tr th {\n",
       "        vertical-align: top;\n",
       "    }\n",
       "\n",
       "    .dataframe thead th {\n",
       "        text-align: right;\n",
       "    }\n",
       "</style>\n",
       "<table border=\"1\" class=\"dataframe\">\n",
       "  <thead>\n",
       "    <tr style=\"text-align: right;\">\n",
       "      <th></th>\n",
       "      <th>Timestamp</th>\n",
       "      <th>How many hours did you sleep last night?</th>\n",
       "      <th>Recognition Score</th>\n",
       "      <th>Temporal Memory Score</th>\n",
       "    </tr>\n",
       "  </thead>\n",
       "  <tbody>\n",
       "    <tr>\n",
       "      <th>0</th>\n",
       "      <td>12/11/2012 18:16:31</td>\n",
       "      <td>7.0</td>\n",
       "      <td>91</td>\n",
       "      <td>86</td>\n",
       "    </tr>\n",
       "    <tr>\n",
       "      <th>1</th>\n",
       "      <td>12/13/2012 14:31:16</td>\n",
       "      <td>6.5</td>\n",
       "      <td>95</td>\n",
       "      <td>78</td>\n",
       "    </tr>\n",
       "    <tr>\n",
       "      <th>2</th>\n",
       "      <td>12/13/2012 14:31:30</td>\n",
       "      <td>7.0</td>\n",
       "      <td>95</td>\n",
       "      <td>56</td>\n",
       "    </tr>\n",
       "    <tr>\n",
       "      <th>3</th>\n",
       "      <td>12/13/2012 14:32:01</td>\n",
       "      <td>5.0</td>\n",
       "      <td>91</td>\n",
       "      <td>81</td>\n",
       "    </tr>\n",
       "    <tr>\n",
       "      <th>4</th>\n",
       "      <td>12/13/2012 14:34:07</td>\n",
       "      <td>8.5</td>\n",
       "      <td>100</td>\n",
       "      <td>75</td>\n",
       "    </tr>\n",
       "    <tr>\n",
       "      <th>...</th>\n",
       "      <td>...</td>\n",
       "      <td>...</td>\n",
       "      <td>...</td>\n",
       "      <td>...</td>\n",
       "    </tr>\n",
       "    <tr>\n",
       "      <th>9151</th>\n",
       "      <td>3/31/2015 19:22:14</td>\n",
       "      <td>8.0</td>\n",
       "      <td>0</td>\n",
       "      <td>0</td>\n",
       "    </tr>\n",
       "    <tr>\n",
       "      <th>9152</th>\n",
       "      <td>1/11/2016 6:18:34</td>\n",
       "      <td>8.0</td>\n",
       "      <td>NaN</td>\n",
       "      <td>NaN</td>\n",
       "    </tr>\n",
       "    <tr>\n",
       "      <th>9153</th>\n",
       "      <td>5/20/2016 13:48:07</td>\n",
       "      <td>1.0</td>\n",
       "      <td>ee</td>\n",
       "      <td>ee</td>\n",
       "    </tr>\n",
       "    <tr>\n",
       "      <th>9154</th>\n",
       "      <td>9/17/2016 5:37:22</td>\n",
       "      <td>5.5</td>\n",
       "      <td>NaN</td>\n",
       "      <td>NaN</td>\n",
       "    </tr>\n",
       "    <tr>\n",
       "      <th>9155</th>\n",
       "      <td>9/17/2016 5:37:43</td>\n",
       "      <td>5.5</td>\n",
       "      <td>NaN</td>\n",
       "      <td>NaN</td>\n",
       "    </tr>\n",
       "  </tbody>\n",
       "</table>\n",
       "<p>9156 rows × 4 columns</p>\n",
       "</div>"
      ],
      "text/plain": [
       "                Timestamp  How many hours did you sleep last night?  \\\n",
       "0     12/11/2012 18:16:31                                       7.0   \n",
       "1     12/13/2012 14:31:16                                       6.5   \n",
       "2     12/13/2012 14:31:30                                       7.0   \n",
       "3     12/13/2012 14:32:01                                       5.0   \n",
       "4     12/13/2012 14:34:07                                       8.5   \n",
       "...                   ...                                       ...   \n",
       "9151   3/31/2015 19:22:14                                       8.0   \n",
       "9152    1/11/2016 6:18:34                                       8.0   \n",
       "9153   5/20/2016 13:48:07                                       1.0   \n",
       "9154    9/17/2016 5:37:22                                       5.5   \n",
       "9155    9/17/2016 5:37:43                                       5.5   \n",
       "\n",
       "     Recognition Score Temporal Memory Score  \n",
       "0                   91                    86  \n",
       "1                   95                    78  \n",
       "2                   95                    56  \n",
       "3                   91                    81  \n",
       "4                  100                    75  \n",
       "...                ...                   ...  \n",
       "9151                 0                     0  \n",
       "9152               NaN                   NaN  \n",
       "9153                ee                    ee  \n",
       "9154               NaN                   NaN  \n",
       "9155               NaN                   NaN  \n",
       "\n",
       "[9156 rows x 4 columns]"
      ]
     },
     "execution_count": 3,
     "metadata": {},
     "output_type": "execute_result"
    }
   ],
   "source": [
    "# Read the BBC sleep data into a dataframe\n",
    "sleep_data = pd.read_csv('BBC Results .csv')\n",
    "sleep_data"
   ]
  },
  {
   "cell_type": "code",
   "execution_count": 4,
   "metadata": {
    "ExecuteTime": {
     "end_time": "2021-02-01T16:23:23.103234Z",
     "start_time": "2021-02-01T16:23:23.077329Z"
    }
   },
   "outputs": [
    {
     "data": {
      "text/plain": [
       "(9156, 4)"
      ]
     },
     "execution_count": 4,
     "metadata": {},
     "output_type": "execute_result"
    }
   ],
   "source": [
    "# Shape of the data\n",
    "sleep_data.shape\n",
    "\n",
    "# 9,156 rows/observations and 4 rows"
   ]
  },
  {
   "cell_type": "markdown",
   "metadata": {},
   "source": [
    "Which of the following conclusions is most likely?\n",
    "\n",
    "1. The less sleep you have, the better the memory?\n",
    "\n",
    "2. The more you sleep, the better the the memory?\n",
    "\n",
    "3. People always get the same memory score\n",
    "\n",
    "4. There is no relationship between sleep and memory "
   ]
  },
  {
   "cell_type": "code",
   "execution_count": 5,
   "metadata": {
    "ExecuteTime": {
     "end_time": "2021-02-01T16:23:23.132426Z",
     "start_time": "2021-02-01T16:23:23.111961Z"
    }
   },
   "outputs": [
    {
     "name": "stdout",
     "output_type": "stream",
     "text": [
      "<class 'pandas.core.frame.DataFrame'>\n",
      "RangeIndex: 9156 entries, 0 to 9155\n",
      "Data columns (total 4 columns):\n",
      " #   Column                                    Non-Null Count  Dtype  \n",
      "---  ------                                    --------------  -----  \n",
      " 0   Timestamp                                 9156 non-null   object \n",
      " 1   How many hours did you sleep last night?  9154 non-null   float64\n",
      " 2   Recognition Score                         9097 non-null   object \n",
      " 3   Temporal Memory Score                     9083 non-null   object \n",
      "dtypes: float64(1), object(3)\n",
      "memory usage: 286.2+ KB\n"
     ]
    }
   ],
   "source": [
    "# Info of the dataframe \n",
    "sleep_data.info()"
   ]
  },
  {
   "cell_type": "markdown",
   "metadata": {},
   "source": [
    "The datatypes of the Timestamp, Recognition Score and Temporal Memory Score are objects. For an efficient analysis, the datatypes has to be converted to a proper datetime format and integer."
   ]
  },
  {
   "cell_type": "code",
   "execution_count": 6,
   "metadata": {
    "ExecuteTime": {
     "end_time": "2021-02-01T16:23:25.324880Z",
     "start_time": "2021-02-01T16:23:23.138084Z"
    }
   },
   "outputs": [],
   "source": [
    "# Convert the Timestamp to datetime\n",
    "sleep_data['Timestamp'] = pd.to_datetime(sleep_data['Timestamp'])"
   ]
  },
  {
   "cell_type": "code",
   "execution_count": 7,
   "metadata": {
    "ExecuteTime": {
     "end_time": "2021-02-01T16:23:25.345892Z",
     "start_time": "2021-02-01T16:23:25.327761Z"
    }
   },
   "outputs": [
    {
     "name": "stdout",
     "output_type": "stream",
     "text": [
      "<class 'pandas.core.frame.DataFrame'>\n",
      "RangeIndex: 9156 entries, 0 to 9155\n",
      "Data columns (total 4 columns):\n",
      " #   Column                                    Non-Null Count  Dtype         \n",
      "---  ------                                    --------------  -----         \n",
      " 0   Timestamp                                 9156 non-null   datetime64[ns]\n",
      " 1   How many hours did you sleep last night?  9154 non-null   float64       \n",
      " 2   Recognition Score                         9097 non-null   object        \n",
      " 3   Temporal Memory Score                     9083 non-null   object        \n",
      "dtypes: datetime64[ns](1), float64(1), object(2)\n",
      "memory usage: 286.2+ KB\n"
     ]
    }
   ],
   "source": [
    "sleep_data.info()"
   ]
  },
  {
   "cell_type": "code",
   "execution_count": 8,
   "metadata": {
    "ExecuteTime": {
     "end_time": "2021-02-01T16:23:25.363117Z",
     "start_time": "2021-02-01T16:23:25.349453Z"
    }
   },
   "outputs": [
    {
     "data": {
      "text/plain": [
       "Timestamp                                    0\n",
       "How many hours did you sleep last night?     2\n",
       "Recognition Score                           59\n",
       "Temporal Memory Score                       73\n",
       "dtype: int64"
      ]
     },
     "execution_count": 8,
     "metadata": {},
     "output_type": "execute_result"
    }
   ],
   "source": [
    "# Checking for null values\n",
    "sleep_data.isnull().sum()"
   ]
  },
  {
   "cell_type": "code",
   "execution_count": 9,
   "metadata": {
    "ExecuteTime": {
     "end_time": "2021-02-01T16:23:25.384067Z",
     "start_time": "2021-02-01T16:23:25.370086Z"
    }
   },
   "outputs": [],
   "source": [
    "# How to deal with missing/null/NaN values,extra values\n",
    "# The sleep_data columns contains %, this makes it difficult to convert\n",
    "sleep_data['Recognition Score'] = sleep_data['Recognition Score'].astype(str).str.replace('%', '')"
   ]
  },
  {
   "cell_type": "code",
   "execution_count": 10,
   "metadata": {
    "ExecuteTime": {
     "end_time": "2021-02-01T16:23:25.403753Z",
     "start_time": "2021-02-01T16:23:25.389001Z"
    }
   },
   "outputs": [],
   "source": [
    "sleep_data['Temporal Memory Score'] = sleep_data['Temporal Memory Score'].astype(str).str.replace('%', '')"
   ]
  },
  {
   "cell_type": "code",
   "execution_count": 11,
   "metadata": {
    "ExecuteTime": {
     "end_time": "2021-02-01T16:23:25.421358Z",
     "start_time": "2021-02-01T16:23:25.407847Z"
    }
   },
   "outputs": [],
   "source": [
    "# Converted object to numeric using the flag errors='coerce'\n",
    "sleep_data['Recognition Score'] = pd.to_numeric(sleep_data['Recognition Score'], errors='coerce')"
   ]
  },
  {
   "cell_type": "code",
   "execution_count": 12,
   "metadata": {
    "ExecuteTime": {
     "end_time": "2021-02-01T16:23:25.440547Z",
     "start_time": "2021-02-01T16:23:25.425500Z"
    }
   },
   "outputs": [],
   "source": [
    "sleep_data['Temporal Memory Score'] = pd.to_numeric(sleep_data['Temporal Memory Score'], errors='coerce')"
   ]
  },
  {
   "cell_type": "code",
   "execution_count": 13,
   "metadata": {
    "ExecuteTime": {
     "end_time": "2021-02-01T16:23:25.462066Z",
     "start_time": "2021-02-01T16:23:25.443925Z"
    }
   },
   "outputs": [
    {
     "name": "stdout",
     "output_type": "stream",
     "text": [
      "<class 'pandas.core.frame.DataFrame'>\n",
      "RangeIndex: 9156 entries, 0 to 9155\n",
      "Data columns (total 4 columns):\n",
      " #   Column                                    Non-Null Count  Dtype         \n",
      "---  ------                                    --------------  -----         \n",
      " 0   Timestamp                                 9156 non-null   datetime64[ns]\n",
      " 1   How many hours did you sleep last night?  9154 non-null   float64       \n",
      " 2   Recognition Score                         9092 non-null   float64       \n",
      " 3   Temporal Memory Score                     9077 non-null   float64       \n",
      "dtypes: datetime64[ns](1), float64(3)\n",
      "memory usage: 286.2 KB\n"
     ]
    }
   ],
   "source": [
    "sleep_data.info()"
   ]
  },
  {
   "cell_type": "code",
   "execution_count": 14,
   "metadata": {
    "ExecuteTime": {
     "end_time": "2021-02-01T16:23:25.477661Z",
     "start_time": "2021-02-01T16:23:25.465742Z"
    }
   },
   "outputs": [
    {
     "data": {
      "text/plain": [
       "Timestamp                                    0\n",
       "How many hours did you sleep last night?     2\n",
       "Recognition Score                           64\n",
       "Temporal Memory Score                       79\n",
       "dtype: int64"
      ]
     },
     "execution_count": 14,
     "metadata": {},
     "output_type": "execute_result"
    }
   ],
   "source": [
    "# Checking for null values\n",
    "sleep_data.isnull().sum()"
   ]
  },
  {
   "cell_type": "code",
   "execution_count": 15,
   "metadata": {
    "ExecuteTime": {
     "end_time": "2021-02-01T16:23:25.513681Z",
     "start_time": "2021-02-01T16:23:25.481303Z"
    }
   },
   "outputs": [
    {
     "data": {
      "text/html": [
       "<div>\n",
       "<style scoped>\n",
       "    .dataframe tbody tr th:only-of-type {\n",
       "        vertical-align: middle;\n",
       "    }\n",
       "\n",
       "    .dataframe tbody tr th {\n",
       "        vertical-align: top;\n",
       "    }\n",
       "\n",
       "    .dataframe thead th {\n",
       "        text-align: right;\n",
       "    }\n",
       "</style>\n",
       "<table border=\"1\" class=\"dataframe\">\n",
       "  <thead>\n",
       "    <tr style=\"text-align: right;\">\n",
       "      <th></th>\n",
       "      <th>Timestamp</th>\n",
       "      <th>How many hours did you sleep last night?</th>\n",
       "      <th>Recognition Score</th>\n",
       "      <th>Temporal Memory Score</th>\n",
       "    </tr>\n",
       "  </thead>\n",
       "  <tbody>\n",
       "    <tr>\n",
       "      <th>0</th>\n",
       "      <td>2012-12-11 18:16:31</td>\n",
       "      <td>7.0</td>\n",
       "      <td>91.0</td>\n",
       "      <td>86.0</td>\n",
       "    </tr>\n",
       "    <tr>\n",
       "      <th>1</th>\n",
       "      <td>2012-12-13 14:31:16</td>\n",
       "      <td>6.5</td>\n",
       "      <td>95.0</td>\n",
       "      <td>78.0</td>\n",
       "    </tr>\n",
       "    <tr>\n",
       "      <th>2</th>\n",
       "      <td>2012-12-13 14:31:30</td>\n",
       "      <td>7.0</td>\n",
       "      <td>95.0</td>\n",
       "      <td>56.0</td>\n",
       "    </tr>\n",
       "    <tr>\n",
       "      <th>3</th>\n",
       "      <td>2012-12-13 14:32:01</td>\n",
       "      <td>5.0</td>\n",
       "      <td>91.0</td>\n",
       "      <td>81.0</td>\n",
       "    </tr>\n",
       "    <tr>\n",
       "      <th>4</th>\n",
       "      <td>2012-12-13 14:34:07</td>\n",
       "      <td>8.5</td>\n",
       "      <td>100.0</td>\n",
       "      <td>75.0</td>\n",
       "    </tr>\n",
       "    <tr>\n",
       "      <th>...</th>\n",
       "      <td>...</td>\n",
       "      <td>...</td>\n",
       "      <td>...</td>\n",
       "      <td>...</td>\n",
       "    </tr>\n",
       "    <tr>\n",
       "      <th>9151</th>\n",
       "      <td>2015-03-31 19:22:14</td>\n",
       "      <td>8.0</td>\n",
       "      <td>0.0</td>\n",
       "      <td>0.0</td>\n",
       "    </tr>\n",
       "    <tr>\n",
       "      <th>9152</th>\n",
       "      <td>2016-01-11 06:18:34</td>\n",
       "      <td>8.0</td>\n",
       "      <td>NaN</td>\n",
       "      <td>NaN</td>\n",
       "    </tr>\n",
       "    <tr>\n",
       "      <th>9153</th>\n",
       "      <td>2016-05-20 13:48:07</td>\n",
       "      <td>1.0</td>\n",
       "      <td>NaN</td>\n",
       "      <td>NaN</td>\n",
       "    </tr>\n",
       "    <tr>\n",
       "      <th>9154</th>\n",
       "      <td>2016-09-17 05:37:22</td>\n",
       "      <td>5.5</td>\n",
       "      <td>NaN</td>\n",
       "      <td>NaN</td>\n",
       "    </tr>\n",
       "    <tr>\n",
       "      <th>9155</th>\n",
       "      <td>2016-09-17 05:37:43</td>\n",
       "      <td>5.5</td>\n",
       "      <td>NaN</td>\n",
       "      <td>NaN</td>\n",
       "    </tr>\n",
       "  </tbody>\n",
       "</table>\n",
       "<p>9156 rows × 4 columns</p>\n",
       "</div>"
      ],
      "text/plain": [
       "               Timestamp  How many hours did you sleep last night?  \\\n",
       "0    2012-12-11 18:16:31                                       7.0   \n",
       "1    2012-12-13 14:31:16                                       6.5   \n",
       "2    2012-12-13 14:31:30                                       7.0   \n",
       "3    2012-12-13 14:32:01                                       5.0   \n",
       "4    2012-12-13 14:34:07                                       8.5   \n",
       "...                  ...                                       ...   \n",
       "9151 2015-03-31 19:22:14                                       8.0   \n",
       "9152 2016-01-11 06:18:34                                       8.0   \n",
       "9153 2016-05-20 13:48:07                                       1.0   \n",
       "9154 2016-09-17 05:37:22                                       5.5   \n",
       "9155 2016-09-17 05:37:43                                       5.5   \n",
       "\n",
       "      Recognition Score  Temporal Memory Score  \n",
       "0                  91.0                   86.0  \n",
       "1                  95.0                   78.0  \n",
       "2                  95.0                   56.0  \n",
       "3                  91.0                   81.0  \n",
       "4                 100.0                   75.0  \n",
       "...                 ...                    ...  \n",
       "9151                0.0                    0.0  \n",
       "9152                NaN                    NaN  \n",
       "9153                NaN                    NaN  \n",
       "9154                NaN                    NaN  \n",
       "9155                NaN                    NaN  \n",
       "\n",
       "[9156 rows x 4 columns]"
      ]
     },
     "execution_count": 15,
     "metadata": {},
     "output_type": "execute_result"
    }
   ],
   "source": [
    "sleep_data"
   ]
  },
  {
   "cell_type": "code",
   "execution_count": 16,
   "metadata": {
    "ExecuteTime": {
     "end_time": "2021-02-01T16:23:25.575872Z",
     "start_time": "2021-02-01T16:23:25.519983Z"
    }
   },
   "outputs": [
    {
     "data": {
      "text/html": [
       "<div>\n",
       "<style scoped>\n",
       "    .dataframe tbody tr th:only-of-type {\n",
       "        vertical-align: middle;\n",
       "    }\n",
       "\n",
       "    .dataframe tbody tr th {\n",
       "        vertical-align: top;\n",
       "    }\n",
       "\n",
       "    .dataframe thead th {\n",
       "        text-align: right;\n",
       "    }\n",
       "</style>\n",
       "<table border=\"1\" class=\"dataframe\">\n",
       "  <thead>\n",
       "    <tr style=\"text-align: right;\">\n",
       "      <th></th>\n",
       "      <th>How many hours did you sleep last night?</th>\n",
       "      <th>Recognition Score</th>\n",
       "      <th>Temporal Memory Score</th>\n",
       "    </tr>\n",
       "  </thead>\n",
       "  <tbody>\n",
       "    <tr>\n",
       "      <th>count</th>\n",
       "      <td>9154.000000</td>\n",
       "      <td>9092.000000</td>\n",
       "      <td>9077.000000</td>\n",
       "    </tr>\n",
       "    <tr>\n",
       "      <th>mean</th>\n",
       "      <td>6.696308</td>\n",
       "      <td>92.174456</td>\n",
       "      <td>78.470823</td>\n",
       "    </tr>\n",
       "    <tr>\n",
       "      <th>std</th>\n",
       "      <td>2.277370</td>\n",
       "      <td>20.503720</td>\n",
       "      <td>15.473231</td>\n",
       "    </tr>\n",
       "    <tr>\n",
       "      <th>min</th>\n",
       "      <td>0.000000</td>\n",
       "      <td>0.000000</td>\n",
       "      <td>0.000000</td>\n",
       "    </tr>\n",
       "    <tr>\n",
       "      <th>25%</th>\n",
       "      <td>6.000000</td>\n",
       "      <td>87.000000</td>\n",
       "      <td>70.000000</td>\n",
       "    </tr>\n",
       "    <tr>\n",
       "      <th>50%</th>\n",
       "      <td>7.000000</td>\n",
       "      <td>92.000000</td>\n",
       "      <td>80.000000</td>\n",
       "    </tr>\n",
       "    <tr>\n",
       "      <th>75%</th>\n",
       "      <td>8.000000</td>\n",
       "      <td>100.000000</td>\n",
       "      <td>87.000000</td>\n",
       "    </tr>\n",
       "    <tr>\n",
       "      <th>max</th>\n",
       "      <td>23.500000</td>\n",
       "      <td>200.000000</td>\n",
       "      <td>789.000000</td>\n",
       "    </tr>\n",
       "  </tbody>\n",
       "</table>\n",
       "</div>"
      ],
      "text/plain": [
       "       How many hours did you sleep last night?  Recognition Score  \\\n",
       "count                               9154.000000        9092.000000   \n",
       "mean                                   6.696308          92.174456   \n",
       "std                                    2.277370          20.503720   \n",
       "min                                    0.000000           0.000000   \n",
       "25%                                    6.000000          87.000000   \n",
       "50%                                    7.000000          92.000000   \n",
       "75%                                    8.000000         100.000000   \n",
       "max                                   23.500000         200.000000   \n",
       "\n",
       "       Temporal Memory Score  \n",
       "count            9077.000000  \n",
       "mean               78.470823  \n",
       "std                15.473231  \n",
       "min                 0.000000  \n",
       "25%                70.000000  \n",
       "50%                80.000000  \n",
       "75%                87.000000  \n",
       "max               789.000000  "
      ]
     },
     "execution_count": 16,
     "metadata": {},
     "output_type": "execute_result"
    }
   ],
   "source": [
    "sleep_data.describe()"
   ]
  },
  {
   "cell_type": "code",
   "execution_count": 17,
   "metadata": {
    "ExecuteTime": {
     "end_time": "2021-02-01T16:23:25.591438Z",
     "start_time": "2021-02-01T16:23:25.580974Z"
    }
   },
   "outputs": [],
   "source": [
    "# Visualizing a random sample of n peoples hour slept and temporal memory score\n",
    "# How to get a random sample using pandas?\n",
    "# How to visualize a random sample to view relationships"
   ]
  },
  {
   "cell_type": "code",
   "execution_count": 18,
   "metadata": {
    "ExecuteTime": {
     "end_time": "2021-02-01T16:23:25.623913Z",
     "start_time": "2021-02-01T16:23:25.595522Z"
    }
   },
   "outputs": [
    {
     "data": {
      "text/html": [
       "<div>\n",
       "<style scoped>\n",
       "    .dataframe tbody tr th:only-of-type {\n",
       "        vertical-align: middle;\n",
       "    }\n",
       "\n",
       "    .dataframe tbody tr th {\n",
       "        vertical-align: top;\n",
       "    }\n",
       "\n",
       "    .dataframe thead th {\n",
       "        text-align: right;\n",
       "    }\n",
       "</style>\n",
       "<table border=\"1\" class=\"dataframe\">\n",
       "  <thead>\n",
       "    <tr style=\"text-align: right;\">\n",
       "      <th></th>\n",
       "      <th>Timestamp</th>\n",
       "      <th>How many hours did you sleep last night?</th>\n",
       "      <th>Recognition Score</th>\n",
       "      <th>Temporal Memory Score</th>\n",
       "    </tr>\n",
       "  </thead>\n",
       "  <tbody>\n",
       "    <tr>\n",
       "      <th>5692</th>\n",
       "      <td>2013-12-12 10:12:51</td>\n",
       "      <td>4.0</td>\n",
       "      <td>91.0</td>\n",
       "      <td>95.0</td>\n",
       "    </tr>\n",
       "    <tr>\n",
       "      <th>3529</th>\n",
       "      <td>2013-05-27 18:23:05</td>\n",
       "      <td>12.5</td>\n",
       "      <td>75.0</td>\n",
       "      <td>88.0</td>\n",
       "    </tr>\n",
       "    <tr>\n",
       "      <th>6670</th>\n",
       "      <td>2014-03-24 02:28:46</td>\n",
       "      <td>7.0</td>\n",
       "      <td>75.0</td>\n",
       "      <td>77.0</td>\n",
       "    </tr>\n",
       "    <tr>\n",
       "      <th>8297</th>\n",
       "      <td>2014-09-08 03:52:29</td>\n",
       "      <td>6.0</td>\n",
       "      <td>100.0</td>\n",
       "      <td>70.0</td>\n",
       "    </tr>\n",
       "    <tr>\n",
       "      <th>7233</th>\n",
       "      <td>2014-06-08 19:50:39</td>\n",
       "      <td>7.0</td>\n",
       "      <td>95.0</td>\n",
       "      <td>95.0</td>\n",
       "    </tr>\n",
       "    <tr>\n",
       "      <th>...</th>\n",
       "      <td>...</td>\n",
       "      <td>...</td>\n",
       "      <td>...</td>\n",
       "      <td>...</td>\n",
       "    </tr>\n",
       "    <tr>\n",
       "      <th>8877</th>\n",
       "      <td>2015-01-05 12:56:36</td>\n",
       "      <td>8.0</td>\n",
       "      <td>87.0</td>\n",
       "      <td>90.0</td>\n",
       "    </tr>\n",
       "    <tr>\n",
       "      <th>2441</th>\n",
       "      <td>2013-04-18 09:59:56</td>\n",
       "      <td>0.0</td>\n",
       "      <td>79.0</td>\n",
       "      <td>73.0</td>\n",
       "    </tr>\n",
       "    <tr>\n",
       "      <th>4634</th>\n",
       "      <td>2013-07-22 21:14:26</td>\n",
       "      <td>9.0</td>\n",
       "      <td>91.0</td>\n",
       "      <td>100.0</td>\n",
       "    </tr>\n",
       "    <tr>\n",
       "      <th>8050</th>\n",
       "      <td>2014-08-09 14:27:05</td>\n",
       "      <td>7.0</td>\n",
       "      <td>87.0</td>\n",
       "      <td>90.0</td>\n",
       "    </tr>\n",
       "    <tr>\n",
       "      <th>136</th>\n",
       "      <td>2013-01-31 04:34:34</td>\n",
       "      <td>8.0</td>\n",
       "      <td>87.0</td>\n",
       "      <td>80.0</td>\n",
       "    </tr>\n",
       "  </tbody>\n",
       "</table>\n",
       "<p>916 rows × 4 columns</p>\n",
       "</div>"
      ],
      "text/plain": [
       "               Timestamp  How many hours did you sleep last night?  \\\n",
       "5692 2013-12-12 10:12:51                                       4.0   \n",
       "3529 2013-05-27 18:23:05                                      12.5   \n",
       "6670 2014-03-24 02:28:46                                       7.0   \n",
       "8297 2014-09-08 03:52:29                                       6.0   \n",
       "7233 2014-06-08 19:50:39                                       7.0   \n",
       "...                  ...                                       ...   \n",
       "8877 2015-01-05 12:56:36                                       8.0   \n",
       "2441 2013-04-18 09:59:56                                       0.0   \n",
       "4634 2013-07-22 21:14:26                                       9.0   \n",
       "8050 2014-08-09 14:27:05                                       7.0   \n",
       "136  2013-01-31 04:34:34                                       8.0   \n",
       "\n",
       "      Recognition Score  Temporal Memory Score  \n",
       "5692               91.0                   95.0  \n",
       "3529               75.0                   88.0  \n",
       "6670               75.0                   77.0  \n",
       "8297              100.0                   70.0  \n",
       "7233               95.0                   95.0  \n",
       "...                 ...                    ...  \n",
       "8877               87.0                   90.0  \n",
       "2441               79.0                   73.0  \n",
       "4634               91.0                  100.0  \n",
       "8050               87.0                   90.0  \n",
       "136                87.0                   80.0  \n",
       "\n",
       "[916 rows x 4 columns]"
      ]
     },
     "execution_count": 18,
     "metadata": {},
     "output_type": "execute_result"
    }
   ],
   "source": [
    "# Random sampling\n",
    "# A random 30% of the sleep_data dataframe\n",
    "# https://pandas.pydata.org/pandas-docs/stable/reference/api/pandas.DataFrame.sample.html\n",
    "sample_10 = sleep_data.sample(frac=0.1, random_state=1)\n",
    "sample_10"
   ]
  },
  {
   "cell_type": "markdown",
   "metadata": {},
   "source": [
    "The average score of the sample population is known as the population parameter. It is denoted by mu(μ).\n",
    "\n",
    "The average score of the sample is called the sample statistics. It is denoted by X-bar(x̄).\n",
    "\n",
    "You can use the sample statistics to approximate the population parameter. The difference between the population parameter and the sample statistics is called the sampling error."
   ]
  },
  {
   "cell_type": "code",
   "execution_count": 19,
   "metadata": {
    "ExecuteTime": {
     "end_time": "2021-02-01T16:23:27.665204Z",
     "start_time": "2021-02-01T16:23:25.628044Z"
    }
   },
   "outputs": [],
   "source": [
    "# Visualize sample_30\n",
    "import seaborn as sns"
   ]
  },
  {
   "cell_type": "code",
   "execution_count": 20,
   "metadata": {
    "ExecuteTime": {
     "end_time": "2021-02-01T16:23:28.449588Z",
     "start_time": "2021-02-01T16:23:27.668683Z"
    }
   },
   "outputs": [
    {
     "data": {
      "image/png": "[encoded data removed]",
      "text/plain": [
       "<Figure size 842.4x595.44 with 1 Axes>"
      ]
     },
     "metadata": {},
     "output_type": "display_data"
    }
   ],
   "source": [
    "sns.set(rc={'figure.figsize':(11.7,8.27)}) # Set the figure size of the plot\n",
    "sns.scatterplot(data=sample_10, x='How many hours did you sleep last night?', y='Temporal Memory Score' );"
   ]
  },
  {
   "cell_type": "code",
   "execution_count": 21,
   "metadata": {
    "ExecuteTime": {
     "end_time": "2021-02-01T16:23:28.457897Z",
     "start_time": "2021-02-01T16:23:28.453623Z"
    }
   },
   "outputs": [],
   "source": [
    "# Hours slept is on the x axis and we call the variable on the x axis the independent variable or \n",
    "#the predictor variable\n",
    "\n",
    "# We call the variable on the y axis the dependent variable or the outcome.\n",
    "\n",
    "# From the visualization, can we say there's a relationship between hours slept and the temporal memory score?"
   ]
  },
  {
   "cell_type": "markdown",
   "metadata": {},
   "source": [
    "#### Visualizing Data"
   ]
  },
  {
   "cell_type": "markdown",
   "metadata": {},
   "source": [
    "1. Frequency: The number of times a value occurs \n",
    "\n",
    "2. Relative frequency: Understanding the proportion of a frequency. How the proportion relates to the whole.\n",
    "\n",
    "3. Range of proportion: From 0 to 1 = frequency / population\n",
    "\n",
    "4. Sum of relative frequency: Total of the relative frequency = 1\n",
    "\n",
    "5. Percentage: Multiply the proportion by 100\n",
    "\n",
    "6. Grouping data: Using frequency, relative frequency, percentage, tec.\n",
    "\n",
    "7. Visualizing age data: Binning/interval/bucket, create a graph.\n",
    "\n",
    "8. Bin size is the interval in which you're counting the frequency.\n",
    "\n",
    "9. Using graph\n",
    "\n",
    "10. Distribution: Symmetrical, positively skewed, negatively skewed"
   ]
  },
  {
   "cell_type": "code",
   "execution_count": 22,
   "metadata": {
    "ExecuteTime": {
     "end_time": "2021-02-01T16:23:29.128389Z",
     "start_time": "2021-02-01T16:23:28.462146Z"
    }
   },
   "outputs": [
    {
     "data": {
      "image/png": "[encoded data removed]",
      "text/plain": [
       "<Figure size 842.4x595.44 with 1 Axes>"
      ]
     },
     "metadata": {},
     "output_type": "display_data"
    }
   ],
   "source": [
    "# Histogram\n",
    "sns.histplot(data=sample_10, x= 'How many hours did you sleep last night?');"
   ]
  },
  {
   "cell_type": "markdown",
   "metadata": {},
   "source": [
    "What analysis can you glean from this 👆🏼graph?\n",
    "\n",
    "1. Which hour of sleep has the highest proportion?\n",
    "\n",
    "2. What is the highest value on the frequency axis?\n",
    "\n",
    "3. What is the bin size on the x-axis?\n",
    "\n",
    "4. From the graph, is possible to say people don't usually sleep more than 10hrs?\n",
    "\n",
    "5. What kind of distribution is this?"
   ]
  },
  {
   "cell_type": "code",
   "execution_count": 23,
   "metadata": {
    "ExecuteTime": {
     "end_time": "2021-02-01T16:23:29.155353Z",
     "start_time": "2021-02-01T16:23:29.133814Z"
    }
   },
   "outputs": [],
   "source": [
    "# Bar chart\n",
    "# I'll load the tips dataset from seaborn datasets\n",
    "tips = sns.load_dataset('tips')"
   ]
  },
  {
   "cell_type": "code",
   "execution_count": 24,
   "metadata": {
    "ExecuteTime": {
     "end_time": "2021-02-01T16:23:29.204018Z",
     "start_time": "2021-02-01T16:23:29.159011Z"
    }
   },
   "outputs": [
    {
     "data": {
      "text/html": [
       "<div>\n",
       "<style scoped>\n",
       "    .dataframe tbody tr th:only-of-type {\n",
       "        vertical-align: middle;\n",
       "    }\n",
       "\n",
       "    .dataframe tbody tr th {\n",
       "        vertical-align: top;\n",
       "    }\n",
       "\n",
       "    .dataframe thead th {\n",
       "        text-align: right;\n",
       "    }\n",
       "</style>\n",
       "<table border=\"1\" class=\"dataframe\">\n",
       "  <thead>\n",
       "    <tr style=\"text-align: right;\">\n",
       "      <th></th>\n",
       "      <th>total_bill</th>\n",
       "      <th>tip</th>\n",
       "      <th>sex</th>\n",
       "      <th>smoker</th>\n",
       "      <th>day</th>\n",
       "      <th>time</th>\n",
       "      <th>size</th>\n",
       "    </tr>\n",
       "  </thead>\n",
       "  <tbody>\n",
       "    <tr>\n",
       "      <th>0</th>\n",
       "      <td>16.99</td>\n",
       "      <td>1.01</td>\n",
       "      <td>Female</td>\n",
       "      <td>No</td>\n",
       "      <td>Sun</td>\n",
       "      <td>Dinner</td>\n",
       "      <td>2</td>\n",
       "    </tr>\n",
       "    <tr>\n",
       "      <th>1</th>\n",
       "      <td>10.34</td>\n",
       "      <td>1.66</td>\n",
       "      <td>Male</td>\n",
       "      <td>No</td>\n",
       "      <td>Sun</td>\n",
       "      <td>Dinner</td>\n",
       "      <td>3</td>\n",
       "    </tr>\n",
       "    <tr>\n",
       "      <th>2</th>\n",
       "      <td>21.01</td>\n",
       "      <td>3.50</td>\n",
       "      <td>Male</td>\n",
       "      <td>No</td>\n",
       "      <td>Sun</td>\n",
       "      <td>Dinner</td>\n",
       "      <td>3</td>\n",
       "    </tr>\n",
       "    <tr>\n",
       "      <th>3</th>\n",
       "      <td>23.68</td>\n",
       "      <td>3.31</td>\n",
       "      <td>Male</td>\n",
       "      <td>No</td>\n",
       "      <td>Sun</td>\n",
       "      <td>Dinner</td>\n",
       "      <td>2</td>\n",
       "    </tr>\n",
       "    <tr>\n",
       "      <th>4</th>\n",
       "      <td>24.59</td>\n",
       "      <td>3.61</td>\n",
       "      <td>Female</td>\n",
       "      <td>No</td>\n",
       "      <td>Sun</td>\n",
       "      <td>Dinner</td>\n",
       "      <td>4</td>\n",
       "    </tr>\n",
       "    <tr>\n",
       "      <th>...</th>\n",
       "      <td>...</td>\n",
       "      <td>...</td>\n",
       "      <td>...</td>\n",
       "      <td>...</td>\n",
       "      <td>...</td>\n",
       "      <td>...</td>\n",
       "      <td>...</td>\n",
       "    </tr>\n",
       "    <tr>\n",
       "      <th>239</th>\n",
       "      <td>29.03</td>\n",
       "      <td>5.92</td>\n",
       "      <td>Male</td>\n",
       "      <td>No</td>\n",
       "      <td>Sat</td>\n",
       "      <td>Dinner</td>\n",
       "      <td>3</td>\n",
       "    </tr>\n",
       "    <tr>\n",
       "      <th>240</th>\n",
       "      <td>27.18</td>\n",
       "      <td>2.00</td>\n",
       "      <td>Female</td>\n",
       "      <td>Yes</td>\n",
       "      <td>Sat</td>\n",
       "      <td>Dinner</td>\n",
       "      <td>2</td>\n",
       "    </tr>\n",
       "    <tr>\n",
       "      <th>241</th>\n",
       "      <td>22.67</td>\n",
       "      <td>2.00</td>\n",
       "      <td>Male</td>\n",
       "      <td>Yes</td>\n",
       "      <td>Sat</td>\n",
       "      <td>Dinner</td>\n",
       "      <td>2</td>\n",
       "    </tr>\n",
       "    <tr>\n",
       "      <th>242</th>\n",
       "      <td>17.82</td>\n",
       "      <td>1.75</td>\n",
       "      <td>Male</td>\n",
       "      <td>No</td>\n",
       "      <td>Sat</td>\n",
       "      <td>Dinner</td>\n",
       "      <td>2</td>\n",
       "    </tr>\n",
       "    <tr>\n",
       "      <th>243</th>\n",
       "      <td>18.78</td>\n",
       "      <td>3.00</td>\n",
       "      <td>Female</td>\n",
       "      <td>No</td>\n",
       "      <td>Thur</td>\n",
       "      <td>Dinner</td>\n",
       "      <td>2</td>\n",
       "    </tr>\n",
       "  </tbody>\n",
       "</table>\n",
       "<p>244 rows × 7 columns</p>\n",
       "</div>"
      ],
      "text/plain": [
       "     total_bill   tip     sex smoker   day    time  size\n",
       "0         16.99  1.01  Female     No   Sun  Dinner     2\n",
       "1         10.34  1.66    Male     No   Sun  Dinner     3\n",
       "2         21.01  3.50    Male     No   Sun  Dinner     3\n",
       "3         23.68  3.31    Male     No   Sun  Dinner     2\n",
       "4         24.59  3.61  Female     No   Sun  Dinner     4\n",
       "..          ...   ...     ...    ...   ...     ...   ...\n",
       "239       29.03  5.92    Male     No   Sat  Dinner     3\n",
       "240       27.18  2.00  Female    Yes   Sat  Dinner     2\n",
       "241       22.67  2.00    Male    Yes   Sat  Dinner     2\n",
       "242       17.82  1.75    Male     No   Sat  Dinner     2\n",
       "243       18.78  3.00  Female     No  Thur  Dinner     2\n",
       "\n",
       "[244 rows x 7 columns]"
      ]
     },
     "execution_count": 24,
     "metadata": {},
     "output_type": "execute_result"
    }
   ],
   "source": [
    "tips"
   ]
  },
  {
   "cell_type": "code",
   "execution_count": 25,
   "metadata": {
    "ExecuteTime": {
     "end_time": "2021-02-01T16:23:29.967235Z",
     "start_time": "2021-02-01T16:23:29.209499Z"
    }
   },
   "outputs": [
    {
     "data": {
      "image/png": "[encoded data removed]",
      "text/plain": [
       "<Figure size 842.4x595.44 with 1 Axes>"
      ]
     },
     "metadata": {},
     "output_type": "display_data"
    }
   ],
   "source": [
    "sns.barplot(x= 'day', y= 'total_bill', data=tips);"
   ]
  },
  {
   "cell_type": "markdown",
   "metadata": {},
   "source": [
    "Is it possible to take column(s) from a dataframe, and visualize the data using frequency, proportion, percentages, etc. Using this information to answer relevant questions?"
   ]
  },
  {
   "cell_type": "markdown",
   "metadata": {},
   "source": [
    "Understanding mean, median and mode using a dataset containing number of Facebook friends "
   ]
  },
  {
   "cell_type": "code",
   "execution_count": 26,
   "metadata": {
    "ExecuteTime": {
     "end_time": "2021-02-01T16:23:32.802185Z",
     "start_time": "2021-02-01T16:23:32.746711Z"
    }
   },
   "outputs": [
    {
     "data": {
      "text/html": [
       "<div>\n",
       "<style scoped>\n",
       "    .dataframe tbody tr th:only-of-type {\n",
       "        vertical-align: middle;\n",
       "    }\n",
       "\n",
       "    .dataframe tbody tr th {\n",
       "        vertical-align: top;\n",
       "    }\n",
       "\n",
       "    .dataframe thead th {\n",
       "        text-align: right;\n",
       "    }\n",
       "</style>\n",
       "<table border=\"1\" class=\"dataframe\">\n",
       "  <thead>\n",
       "    <tr style=\"text-align: right;\">\n",
       "      <th></th>\n",
       "      <th>Timestamp</th>\n",
       "      <th>How many Facebook friends do you have?</th>\n",
       "    </tr>\n",
       "  </thead>\n",
       "  <tbody>\n",
       "    <tr>\n",
       "      <th>0</th>\n",
       "      <td>5/29/2013 21:49:39</td>\n",
       "      <td>807</td>\n",
       "    </tr>\n",
       "    <tr>\n",
       "      <th>1</th>\n",
       "      <td>5/29/2013 21:51:32</td>\n",
       "      <td>703</td>\n",
       "    </tr>\n",
       "    <tr>\n",
       "      <th>2</th>\n",
       "      <td>5/30/2013 8:45:10</td>\n",
       "      <td>198</td>\n",
       "    </tr>\n",
       "    <tr>\n",
       "      <th>3</th>\n",
       "      <td>5/30/2013 10:32:54</td>\n",
       "      <td>0</td>\n",
       "    </tr>\n",
       "    <tr>\n",
       "      <th>4</th>\n",
       "      <td>5/30/2013 12:47:58</td>\n",
       "      <td>155</td>\n",
       "    </tr>\n",
       "  </tbody>\n",
       "</table>\n",
       "</div>"
      ],
      "text/plain": [
       "            Timestamp How many Facebook friends do you have?\n",
       "0  5/29/2013 21:49:39                                    807\n",
       "1  5/29/2013 21:51:32                                    703\n",
       "2   5/30/2013 8:45:10                                    198\n",
       "3  5/30/2013 10:32:54                                      0\n",
       "4  5/30/2013 12:47:58                                    155"
      ]
     },
     "execution_count": 26,
     "metadata": {},
     "output_type": "execute_result"
    }
   ],
   "source": [
    "# Load the csv file into a dataframe\n",
    "file = 'Facebook Friends  .csv'\n",
    "fb_friends = pd.read_csv(file)\n",
    "fb_friends.head()"
   ]
  },
  {
   "cell_type": "code",
   "execution_count": 27,
   "metadata": {
    "ExecuteTime": {
     "end_time": "2021-02-01T16:23:33.143552Z",
     "start_time": "2021-02-01T16:23:33.136525Z"
    }
   },
   "outputs": [
    {
     "data": {
      "text/plain": [
       "(18957, 2)"
      ]
     },
     "execution_count": 27,
     "metadata": {},
     "output_type": "execute_result"
    }
   ],
   "source": [
    "fb_friends.shape"
   ]
  },
  {
   "cell_type": "code",
   "execution_count": 28,
   "metadata": {
    "ExecuteTime": {
     "end_time": "2021-02-01T16:23:33.871586Z",
     "start_time": "2021-02-01T16:23:33.852072Z"
    }
   },
   "outputs": [
    {
     "name": "stdout",
     "output_type": "stream",
     "text": [
      "<class 'pandas.core.frame.DataFrame'>\n",
      "RangeIndex: 18957 entries, 0 to 18956\n",
      "Data columns (total 2 columns):\n",
      " #   Column                                  Non-Null Count  Dtype \n",
      "---  ------                                  --------------  ----- \n",
      " 0   Timestamp                               18957 non-null  object\n",
      " 1   How many Facebook friends do you have?  18901 non-null  object\n",
      "dtypes: object(2)\n",
      "memory usage: 296.3+ KB\n"
     ]
    }
   ],
   "source": [
    "# Summary info of fb_friends\n",
    "fb_friends.info()"
   ]
  },
  {
   "cell_type": "code",
   "execution_count": 29,
   "metadata": {
    "ExecuteTime": {
     "end_time": "2021-02-01T16:23:34.543939Z",
     "start_time": "2021-02-01T16:23:34.531127Z"
    }
   },
   "outputs": [
    {
     "data": {
      "text/plain": [
       "Timestamp                                  0\n",
       "How many Facebook friends do you have?    56\n",
       "dtype: int64"
      ]
     },
     "execution_count": 29,
     "metadata": {},
     "output_type": "execute_result"
    }
   ],
   "source": [
    "# Checking if it has missing values\n",
    "# Using the sum method once counts the number of NaN values\n",
    "fb_friends.isnull().sum()"
   ]
  },
  {
   "cell_type": "markdown",
   "metadata": {},
   "source": [
    "1. After confirming missing values exist, next is what to do about these missing values\n",
    "\n",
    "2. In this current situation, I want to understand mean, mode and median.\n",
    "\n",
    "3. I'll fill the missing values in the 'How many Facebook friends do you have?' column with zeros"
   ]
  },
  {
   "cell_type": "code",
   "execution_count": 30,
   "metadata": {
    "ExecuteTime": {
     "end_time": "2021-02-01T16:23:35.721064Z",
     "start_time": "2021-02-01T16:23:35.711498Z"
    }
   },
   "outputs": [
    {
     "data": {
      "text/plain": [
       "Timestamp                                 object\n",
       "How many Facebook friends do you have?    object\n",
       "dtype: object"
      ]
     },
     "execution_count": 30,
     "metadata": {},
     "output_type": "execute_result"
    }
   ],
   "source": [
    "# Checking the data type\n",
    "fb_friends.dtypes"
   ]
  },
  {
   "cell_type": "code",
   "execution_count": 31,
   "metadata": {
    "ExecuteTime": {
     "end_time": "2021-02-01T16:23:36.243286Z",
     "start_time": "2021-02-01T16:23:36.228564Z"
    }
   },
   "outputs": [
    {
     "data": {
      "text/plain": [
       "Timestamp                                  0\n",
       "How many Facebook friends do you have?    56\n",
       "dtype: int64"
      ]
     },
     "execution_count": 31,
     "metadata": {},
     "output_type": "execute_result"
    }
   ],
   "source": [
    "fb_friends.isnull().sum()"
   ]
  },
  {
   "cell_type": "code",
   "execution_count": 32,
   "metadata": {
    "ExecuteTime": {
     "end_time": "2021-02-01T16:23:36.734808Z",
     "start_time": "2021-02-01T16:23:36.708636Z"
    }
   },
   "outputs": [],
   "source": [
    "# The dtype for the number of friends column is object.\n",
    "# I'll convert the column datatype to numeric\n",
    "fb_friends[\n",
    "    'How many Facebook friends do you have?'] = pd.to_numeric(fb_friends[\n",
    "        'How many Facebook friends do you have?'], errors='coerce')\n",
    "# Using the flag error='coerce'invalid parsing will be set as NaN"
   ]
  },
  {
   "cell_type": "code",
   "execution_count": 33,
   "metadata": {
    "ExecuteTime": {
     "end_time": "2021-02-01T16:23:37.260347Z",
     "start_time": "2021-02-01T16:23:37.249769Z"
    }
   },
   "outputs": [
    {
     "data": {
      "text/plain": [
       "Timestamp                                  object\n",
       "How many Facebook friends do you have?    float64\n",
       "dtype: object"
      ]
     },
     "execution_count": 33,
     "metadata": {},
     "output_type": "execute_result"
    }
   ],
   "source": [
    "# Checking the datatype again\n",
    "fb_friends.dtypes"
   ]
  },
  {
   "cell_type": "code",
   "execution_count": 34,
   "metadata": {
    "ExecuteTime": {
     "end_time": "2021-02-01T16:23:37.724725Z",
     "start_time": "2021-02-01T16:23:37.710445Z"
    }
   },
   "outputs": [
    {
     "data": {
      "text/plain": [
       "Timestamp                                   0\n",
       "How many Facebook friends do you have?    133\n",
       "dtype: int64"
      ]
     },
     "execution_count": 34,
     "metadata": {},
     "output_type": "execute_result"
    }
   ],
   "source": [
    "# Checking the missing values\n",
    "fb_friends.isnull().sum()"
   ]
  },
  {
   "cell_type": "code",
   "execution_count": 35,
   "metadata": {
    "ExecuteTime": {
     "end_time": "2021-02-01T16:23:38.244862Z",
     "start_time": "2021-02-01T16:23:38.232149Z"
    }
   },
   "outputs": [
    {
     "data": {
      "text/plain": [
       "133"
      ]
     },
     "execution_count": 35,
     "metadata": {},
     "output_type": "execute_result"
    }
   ],
   "source": [
    "# Another way to check for number of NaN value\n",
    "len(fb_friends)- fb_friends['How many Facebook friends do you have?'].count()"
   ]
  },
  {
   "cell_type": "code",
   "execution_count": 36,
   "metadata": {
    "ExecuteTime": {
     "end_time": "2021-02-01T16:23:38.905272Z",
     "start_time": "2021-02-01T16:23:38.748923Z"
    }
   },
   "outputs": [
    {
     "data": {
      "text/plain": [
       "[array(['5/29/2013 21:49:39', 807.0], dtype=object),\n",
       " array(['5/29/2013 21:51:32', 703.0], dtype=object),\n",
       " array(['5/30/2013 8:45:10', 198.0], dtype=object),\n",
       " array(['5/30/2013 10:32:54', 0.0], dtype=object),\n",
       " array(['5/30/2013 12:47:58', 155.0], dtype=object),\n",
       " array(['5/30/2013 14:30:00', 757.0], dtype=object),\n",
       " array(['5/30/2013 14:34:07', 0.0], dtype=object),\n",
       " array(['5/30/2013 19:35:44', 799.0], dtype=object),\n",
       " array(['5/30/2013 20:16:47', 1110.0], dtype=object),\n",
       " array(['5/31/2013 0:21:44', nan], dtype=object),\n",
       " array(['5/31/2013 0:25:40', 0.0], dtype=object),\n",
       " array(['5/31/2013 9:53:00', 0.0], dtype=object),\n",
       " array(['5/31/2013 13:12:46', 135.0], dtype=object),\n",
       " array(['5/31/2013 14:01:05', 187.0], dtype=object),\n",
       " array(['5/31/2013 15:07:04', 100.0], dtype=object),\n",
       " array(['5/31/2013 16:00:06', 18.0], dtype=object),\n",
       " array(['5/31/2013 16:44:31', 311.0], dtype=object),\n",
       " array(['5/31/2013 19:25:02', 327.0], dtype=object),\n",
       " array(['6/1/2013 0:38:31', 30.0], dtype=object),\n",
       " array(['6/1/2013 2:56:06', 305.0], dtype=object),\n",
       " array(['6/1/2013 8:05:32', 82.0], dtype=object),\n",
       " array(['6/1/2013 11:05:37', 0.0], dtype=object),\n",
       " array(['6/1/2013 15:14:11', 0.0], dtype=object),\n",
       " array(['6/2/2013 17:38:40', 0.0], dtype=object),\n",
       " array(['6/3/2013 2:01:19', 3000.0], dtype=object),\n",
       " array(['6/3/2013 14:37:55', 300.0], dtype=object),\n",
       " array(['6/3/2013 15:15:24', 146.0], dtype=object),\n",
       " array(['6/4/2013 1:23:19', 74.0], dtype=object),\n",
       " array(['6/4/2013 6:24:41', 181.0], dtype=object),\n",
       " array(['6/4/2013 9:24:42', 208.0], dtype=object),\n",
       " array(['6/4/2013 11:53:41', 10.0], dtype=object),\n",
       " array(['6/5/2013 8:40:34', 221.0], dtype=object),\n",
       " array(['6/5/2013 10:45:14', 273.0], dtype=object),\n",
       " array(['6/5/2013 11:10:00', 633.0], dtype=object),\n",
       " array(['6/5/2013 15:27:50', 842.0], dtype=object),\n",
       " array(['6/5/2013 15:38:15', 150.0], dtype=object),\n",
       " array(['6/6/2013 0:36:36', 873.0], dtype=object),\n",
       " array(['6/6/2013 3:51:46', 500.0], dtype=object),\n",
       " array(['6/6/2013 4:58:46', 1000.0], dtype=object),\n",
       " array(['6/6/2013 6:32:42', 300.0], dtype=object),\n",
       " array(['6/6/2013 7:11:24', 302.0], dtype=object),\n",
       " array(['6/6/2013 8:53:50', 30.0], dtype=object),\n",
       " array(['6/6/2013 10:16:23', 405.0], dtype=object),\n",
       " array(['6/6/2013 14:25:48', 1000.0], dtype=object),\n",
       " array(['6/6/2013 16:25:54', 309.0], dtype=object),\n",
       " array(['6/6/2013 16:35:17', 200.0], dtype=object),\n",
       " array(['6/6/2013 21:31:02', 163.0], dtype=object),\n",
       " array(['6/7/2013 8:15:47', 65.0], dtype=object),\n",
       " array(['6/7/2013 10:40:15', 0.0], dtype=object),\n",
       " array(['6/7/2013 22:56:35', 326.0], dtype=object),\n",
       " array(['6/8/2013 13:43:52', 353.0], dtype=object),\n",
       " array(['6/8/2013 14:34:43', 504.0], dtype=object),\n",
       " array(['6/8/2013 16:39:16', 350.0], dtype=object),\n",
       " array(['6/9/2013 15:57:52', 65.0], dtype=object),\n",
       " array(['6/9/2013 16:52:10', 2270.0], dtype=object),\n",
       " array(['6/10/2013 10:40:12', 592.0], dtype=object),\n",
       " array(['6/10/2013 10:44:56', 978.0], dtype=object),\n",
       " array(['6/10/2013 16:57:21', 675.0], dtype=object),\n",
       " array(['6/11/2013 1:00:48', 217.0], dtype=object),\n",
       " array(['6/11/2013 7:31:40', 0.0], dtype=object),\n",
       " array(['6/11/2013 9:04:25', 328.0], dtype=object),\n",
       " array(['6/11/2013 12:45:24', 15.0], dtype=object),\n",
       " array(['6/11/2013 13:48:10', 173.0], dtype=object),\n",
       " array(['6/11/2013 14:53:46', 456.0], dtype=object),\n",
       " array(['6/11/2013 19:43:23', 525.0], dtype=object),\n",
       " array(['6/12/2013 0:04:21', 639.0], dtype=object),\n",
       " array(['6/12/2013 1:56:15', 550.0], dtype=object),\n",
       " array(['6/12/2013 2:40:41', 373.0], dtype=object),\n",
       " array(['6/12/2013 5:01:13', 186.0], dtype=object),\n",
       " array(['6/12/2013 11:59:58', 0.0], dtype=object),\n",
       " array(['6/12/2013 20:16:34', 98.0], dtype=object),\n",
       " array(['6/13/2013 6:24:33', 45.0], dtype=object),\n",
       " array(['6/13/2013 9:01:33', 353.0], dtype=object),\n",
       " array(['6/13/2013 10:03:53', 208.0], dtype=object),\n",
       " array(['6/13/2013 10:06:16', 1849.0], dtype=object),\n",
       " array(['6/13/2013 11:13:55', 350.0], dtype=object),\n",
       " array(['6/13/2013 16:30:22', 0.0], dtype=object),\n",
       " array(['6/13/2013 17:12:58', 300.0], dtype=object),\n",
       " array(['6/13/2013 20:41:14', 210.0], dtype=object),\n",
       " array(['6/14/2013 7:31:26', 230.0], dtype=object),\n",
       " array(['6/14/2013 12:31:03', 407.0], dtype=object),\n",
       " array(['6/14/2013 15:08:52', 0.0], dtype=object),\n",
       " array(['6/14/2013 18:24:59', 270.0], dtype=object),\n",
       " array(['6/14/2013 21:06:54', 1127.0], dtype=object),\n",
       " array(['6/14/2013 23:59:45', 540.0], dtype=object),\n",
       " array(['6/15/2013 2:37:39', 225.0], dtype=object),\n",
       " array(['6/15/2013 3:36:23', 274.0], dtype=object),\n",
       " array(['6/15/2013 16:36:25', 450.0], dtype=object),\n",
       " array(['6/15/2013 18:13:37', 0.0], dtype=object),\n",
       " array(['6/15/2013 18:22:32', 101.0], dtype=object),\n",
       " array(['6/15/2013 23:57:53', 0.0], dtype=object),\n",
       " array(['6/16/2013 2:56:53', 1133.0], dtype=object),\n",
       " array(['6/16/2013 4:44:11', 0.0], dtype=object),\n",
       " array(['6/16/2013 7:21:34', 0.0], dtype=object),\n",
       " array(['6/16/2013 10:03:15', 0.0], dtype=object),\n",
       " array(['6/16/2013 10:30:40', 536.0], dtype=object),\n",
       " array(['6/16/2013 10:48:41', 0.0], dtype=object),\n",
       " array(['6/16/2013 11:28:48', nan], dtype=object),\n",
       " array(['6/16/2013 15:07:34', 310.0], dtype=object),\n",
       " array(['6/16/2013 18:04:34', 57.0], dtype=object),\n",
       " array(['6/16/2013 20:46:07', 106.0], dtype=object),\n",
       " array(['6/16/2013 22:11:55', 0.0], dtype=object),\n",
       " array(['6/16/2013 23:07:05', 15.0], dtype=object),\n",
       " array(['6/16/2013 23:32:37', 564.0], dtype=object),\n",
       " array(['6/17/2013 0:11:57', 500.0], dtype=object),\n",
       " array(['6/17/2013 6:40:06', 400.0], dtype=object),\n",
       " array(['6/17/2013 6:51:19', 543.0], dtype=object),\n",
       " array(['6/17/2013 7:58:40', 90.0], dtype=object),\n",
       " array(['6/17/2013 8:18:03', 280.0], dtype=object),\n",
       " array(['6/17/2013 9:32:27', 170.0], dtype=object),\n",
       " array(['6/17/2013 9:39:45', 834.0], dtype=object),\n",
       " array(['6/17/2013 9:42:17', 0.0], dtype=object),\n",
       " array(['6/17/2013 9:43:24', 1134.0], dtype=object),\n",
       " array(['6/17/2013 10:09:46', 100.0], dtype=object),\n",
       " array(['6/17/2013 10:35:19', 324.0], dtype=object),\n",
       " array(['6/17/2013 12:34:19', 0.0], dtype=object),\n",
       " array(['6/17/2013 13:10:24', 615.0], dtype=object),\n",
       " array(['6/17/2013 13:17:26', 148.0], dtype=object),\n",
       " array(['6/17/2013 14:24:32', 360.0], dtype=object),\n",
       " array(['6/17/2013 15:55:18', 45.0], dtype=object),\n",
       " array(['6/17/2013 17:32:36', 0.0], dtype=object),\n",
       " array(['6/17/2013 18:02:27', 0.0], dtype=object),\n",
       " array(['6/17/2013 19:19:49', 326.0], dtype=object),\n",
       " array(['6/17/2013 20:07:06', 285.0], dtype=object),\n",
       " array(['6/17/2013 20:48:39', 200.0], dtype=object),\n",
       " array(['6/17/2013 21:07:18', 862.0], dtype=object),\n",
       " array(['6/17/2013 21:30:30', 281.0], dtype=object),\n",
       " array(['6/17/2013 22:17:41', 133.0], dtype=object),\n",
       " array(['6/17/2013 23:13:16', 62.0], dtype=object),\n",
       " array(['6/17/2013 23:55:40', 489.0], dtype=object),\n",
       " array(['6/18/2013 0:59:45', nan], dtype=object),\n",
       " array(['6/18/2013 3:18:01', 190.0], dtype=object),\n",
       " array(['6/18/2013 7:34:34', 110.0], dtype=object),\n",
       " array(['6/18/2013 7:44:33', 544.0], dtype=object),\n",
       " array(['6/18/2013 9:12:32', 0.0], dtype=object),\n",
       " array(['6/18/2013 9:18:38', 1000.0], dtype=object),\n",
       " array(['6/18/2013 9:52:54', 143.0], dtype=object),\n",
       " array(['6/18/2013 10:05:19', 1146.0], dtype=object),\n",
       " array(['6/18/2013 10:14:40', 374.0], dtype=object),\n",
       " array(['6/18/2013 10:29:10', 271.0], dtype=object),\n",
       " array(['6/18/2013 10:53:29', 0.0], dtype=object),\n",
       " array(['6/18/2013 10:53:57', 90.0], dtype=object),\n",
       " array(['6/18/2013 11:44:37', 219.0], dtype=object),\n",
       " array(['6/18/2013 11:47:44', 0.0], dtype=object),\n",
       " array(['6/18/2013 11:48:06', 215.0], dtype=object),\n",
       " array(['6/18/2013 12:45:02', 0.0], dtype=object),\n",
       " array(['6/18/2013 13:27:01', 968.0], dtype=object),\n",
       " array(['6/18/2013 15:32:09', 1200.0], dtype=object),\n",
       " array(['6/18/2013 16:04:08', 1192.0], dtype=object),\n",
       " array(['6/18/2013 16:45:30', 0.0], dtype=object),\n",
       " array(['6/18/2013 16:56:54', 105.0], dtype=object),\n",
       " array(['6/18/2013 17:24:32', 591.0], dtype=object),\n",
       " array(['6/18/2013 20:37:04', 704.0], dtype=object),\n",
       " array(['6/18/2013 21:15:31', 475.0], dtype=object),\n",
       " array(['6/18/2013 21:16:24', 615.0], dtype=object),\n",
       " array(['6/18/2013 21:18:57', 450.0], dtype=object),\n",
       " array(['6/18/2013 22:14:06', 200.0], dtype=object),\n",
       " array(['6/19/2013 0:05:30', 514.0], dtype=object),\n",
       " array(['6/19/2013 0:06:33', 514.0], dtype=object),\n",
       " array(['6/19/2013 0:24:01', 608.0], dtype=object),\n",
       " array(['6/19/2013 5:28:07', 449.0], dtype=object),\n",
       " array(['6/19/2013 7:37:55', 400.0], dtype=object),\n",
       " array(['6/19/2013 8:18:18', 158.0], dtype=object),\n",
       " array(['6/19/2013 9:38:39', 178.0], dtype=object),\n",
       " array(['6/19/2013 10:32:09', 110.0], dtype=object),\n",
       " array(['6/19/2013 10:45:36', 0.0], dtype=object),\n",
       " array(['6/19/2013 11:05:47', 250.0], dtype=object),\n",
       " array(['6/19/2013 13:13:11', 732.0], dtype=object),\n",
       " array(['6/19/2013 14:41:07', 500.0], dtype=object),\n",
       " array(['6/19/2013 14:41:15', 0.0], dtype=object),\n",
       " array(['6/19/2013 16:02:53', 602.0], dtype=object),\n",
       " array(['6/19/2013 17:03:53', 404.0], dtype=object),\n",
       " array(['6/19/2013 17:11:14', 227.0], dtype=object),\n",
       " array(['6/19/2013 17:23:05', 1027.0], dtype=object),\n",
       " array(['6/19/2013 17:40:19', 6.0], dtype=object),\n",
       " array(['6/19/2013 17:45:44', 992.0], dtype=object),\n",
       " array(['6/19/2013 18:31:41', 367.0], dtype=object),\n",
       " array(['6/19/2013 18:51:00', 152.0], dtype=object),\n",
       " array(['6/19/2013 19:20:54', 356.0], dtype=object),\n",
       " array(['6/19/2013 19:32:38', 668.0], dtype=object),\n",
       " array(['6/19/2013 22:04:13', 532.0], dtype=object),\n",
       " array(['6/19/2013 22:25:24', 432.0], dtype=object),\n",
       " array(['6/19/2013 22:38:45', 656.0], dtype=object),\n",
       " array(['6/19/2013 22:50:34', 350.0], dtype=object),\n",
       " array(['6/20/2013 6:04:02', 296.0], dtype=object),\n",
       " array(['6/20/2013 13:06:00', 359.0], dtype=object),\n",
       " array(['6/20/2013 15:05:59', 575.0], dtype=object),\n",
       " array(['6/20/2013 16:01:43', 265.0], dtype=object),\n",
       " array(['6/20/2013 16:24:23', 187.0], dtype=object),\n",
       " array(['6/20/2013 16:55:19', 550.0], dtype=object),\n",
       " array(['6/20/2013 20:14:12', 351.0], dtype=object),\n",
       " array(['6/20/2013 20:56:32', 500.0], dtype=object),\n",
       " array(['6/20/2013 21:20:30', 1000.0], dtype=object),\n",
       " array(['6/20/2013 21:45:04', 0.0], dtype=object),\n",
       " array(['6/21/2013 10:00:59', 239.0], dtype=object),\n",
       " array(['6/21/2013 11:09:42', 1243.0], dtype=object),\n",
       " array(['6/21/2013 12:11:28', 253.0], dtype=object),\n",
       " array(['6/21/2013 12:12:51', 600.0], dtype=object),\n",
       " array(['6/21/2013 12:48:21', 0.0], dtype=object),\n",
       " array(['6/21/2013 14:13:09', 291.0], dtype=object),\n",
       " array(['6/21/2013 14:47:09', 41.0], dtype=object),\n",
       " array(['6/21/2013 15:56:58', 147.0], dtype=object),\n",
       " array(['6/21/2013 16:07:37', 1602.0], dtype=object),\n",
       " array(['6/21/2013 20:16:11', 2117.0], dtype=object),\n",
       " array(['6/21/2013 20:47:02', 293.0], dtype=object),\n",
       " array(['6/21/2013 22:09:20', 890.0], dtype=object),\n",
       " array(['6/22/2013 1:21:15', 330.0], dtype=object),\n",
       " array(['6/22/2013 5:50:44', 558.0], dtype=object),\n",
       " array(['6/22/2013 6:22:15', 63.0], dtype=object),\n",
       " array(['6/22/2013 6:39:07', 0.0], dtype=object),\n",
       " array(['6/22/2013 7:32:57', 412.0], dtype=object),\n",
       " array(['6/22/2013 10:03:41', 97.0], dtype=object),\n",
       " array(['6/22/2013 12:29:22', 565.0], dtype=object),\n",
       " array(['6/22/2013 12:43:18', 472.0], dtype=object),\n",
       " array(['6/22/2013 12:43:32', 498.0], dtype=object),\n",
       " array(['6/22/2013 13:14:43', 229.0], dtype=object),\n",
       " array(['6/22/2013 13:59:20', 0.0], dtype=object),\n",
       " array(['6/22/2013 14:19:29', 955.0], dtype=object),\n",
       " array(['6/22/2013 16:22:50', 0.0], dtype=object),\n",
       " array(['6/22/2013 17:02:18', 500.0], dtype=object),\n",
       " array(['6/22/2013 17:25:08', 762.0], dtype=object),\n",
       " array(['6/22/2013 18:41:12', 480.0], dtype=object),\n",
       " array(['6/22/2013 18:56:08', 2.0], dtype=object),\n",
       " array(['6/22/2013 19:09:08', 154.0], dtype=object),\n",
       " array(['6/22/2013 22:59:05', 612.0], dtype=object),\n",
       " array(['6/22/2013 23:45:51', 300.0], dtype=object),\n",
       " array(['6/23/2013 0:18:55', 243.0], dtype=object),\n",
       " array(['6/23/2013 1:01:25', 0.0], dtype=object),\n",
       " array(['6/23/2013 5:27:28', 0.0], dtype=object),\n",
       " array(['6/23/2013 5:59:27', 580.0], dtype=object),\n",
       " array(['6/23/2013 8:33:53', 481.0], dtype=object),\n",
       " array(['6/23/2013 9:04:49', 706.0], dtype=object),\n",
       " array(['6/23/2013 9:09:19', 0.0], dtype=object),\n",
       " array(['6/23/2013 10:03:39', 0.0], dtype=object),\n",
       " array(['6/23/2013 11:06:39', 1028.0], dtype=object),\n",
       " array(['6/23/2013 11:15:16', 756.0], dtype=object),\n",
       " array(['6/23/2013 11:59:18', 1223.0], dtype=object),\n",
       " array(['6/23/2013 13:13:08', 527.0], dtype=object),\n",
       " array(['6/23/2013 14:15:36', 560.0], dtype=object),\n",
       " array(['6/23/2013 14:44:53', 390.0], dtype=object),\n",
       " array(['6/23/2013 16:18:14', 708.0], dtype=object),\n",
       " array(['6/23/2013 17:33:17', 420.0], dtype=object),\n",
       " array(['6/23/2013 17:54:02', 1221.0], dtype=object),\n",
       " array(['6/23/2013 18:02:45', 0.0], dtype=object),\n",
       " array(['6/23/2013 18:34:18', 220.0], dtype=object),\n",
       " array(['6/23/2013 18:56:31', 2858.0], dtype=object),\n",
       " array(['6/23/2013 19:17:18', 0.0], dtype=object),\n",
       " array(['6/23/2013 20:08:43', 575.0], dtype=object),\n",
       " array(['6/23/2013 20:13:32', 300.0], dtype=object),\n",
       " array(['6/23/2013 20:20:44', 471.0], dtype=object),\n",
       " array(['6/23/2013 20:59:17', 0.0], dtype=object),\n",
       " array(['6/23/2013 21:47:32', 626.0], dtype=object),\n",
       " array(['6/23/2013 21:59:07', 242.0], dtype=object),\n",
       " array(['6/23/2013 22:42:47', 231.0], dtype=object),\n",
       " array(['6/23/2013 23:12:07', 3907.0], dtype=object),\n",
       " array(['6/24/2013 6:31:08', 1428.0], dtype=object),\n",
       " array(['6/24/2013 8:55:18', 0.0], dtype=object),\n",
       " array(['6/24/2013 9:32:17', 520.0], dtype=object),\n",
       " array(['6/24/2013 10:22:02', 250.0], dtype=object),\n",
       " array(['6/24/2013 11:21:17', 650.0], dtype=object),\n",
       " array(['6/24/2013 17:01:42', 0.0], dtype=object),\n",
       " array(['6/24/2013 18:11:56', 0.0], dtype=object),\n",
       " array(['6/24/2013 19:35:23', 199.0], dtype=object),\n",
       " array(['6/24/2013 20:38:15', 125.0], dtype=object),\n",
       " array(['6/24/2013 23:21:11', 435.0], dtype=object),\n",
       " array(['6/25/2013 2:37:43', 480.0], dtype=object),\n",
       " array(['6/25/2013 7:05:43', 200.0], dtype=object),\n",
       " array(['6/25/2013 7:26:31', 407.0], dtype=object),\n",
       " array(['6/25/2013 8:32:47', 475.0], dtype=object),\n",
       " array(['6/25/2013 10:52:18', 300.0], dtype=object),\n",
       " array(['6/25/2013 14:12:56', 22.0], dtype=object),\n",
       " array(['6/25/2013 14:44:46', 785.0], dtype=object),\n",
       " array(['6/25/2013 18:19:52', 320.0], dtype=object),\n",
       " array(['6/25/2013 20:57:05', 119.0], dtype=object),\n",
       " array(['6/26/2013 2:26:43', 620.0], dtype=object),\n",
       " array(['6/26/2013 6:47:59', 249.0], dtype=object),\n",
       " array(['6/26/2013 14:28:20', 1901.0], dtype=object),\n",
       " array(['6/26/2013 16:25:06', 670.0], dtype=object),\n",
       " array(['6/28/2013 11:03:12', 1600.0], dtype=object),\n",
       " array(['6/30/2013 10:10:28', 394.0], dtype=object),\n",
       " array(['6/30/2013 10:28:44', 1300.0], dtype=object),\n",
       " array(['6/30/2013 13:19:54', 89.0], dtype=object),\n",
       " array(['7/1/2013 2:52:11', 178.0], dtype=object),\n",
       " array(['7/1/2013 4:27:43', 190.0], dtype=object),\n",
       " array(['7/1/2013 8:22:12', 10.0], dtype=object),\n",
       " array(['7/2/2013 7:01:01', 0.0], dtype=object),\n",
       " array(['7/2/2013 10:40:38', 0.0], dtype=object),\n",
       " array(['7/2/2013 11:25:28', 0.0], dtype=object),\n",
       " array(['7/2/2013 12:45:45', 231.0], dtype=object),\n",
       " array(['7/2/2013 14:03:56', 0.0], dtype=object),\n",
       " array(['7/2/2013 18:59:07', 59.0], dtype=object),\n",
       " array(['7/3/2013 12:24:49', 469.0], dtype=object),\n",
       " array(['7/3/2013 13:14:41', 0.0], dtype=object),\n",
       " array(['7/4/2013 4:11:59', 89.0], dtype=object),\n",
       " array(['7/4/2013 7:58:31', 0.0], dtype=object),\n",
       " array(['7/4/2013 10:12:17', 239.0], dtype=object),\n",
       " array(['7/4/2013 19:50:24', 463.0], dtype=object),\n",
       " array(['7/5/2013 15:19:20', 257.0], dtype=object),\n",
       " array(['7/5/2013 20:54:28', 1121.0], dtype=object),\n",
       " array(['7/6/2013 5:35:10', 130.0], dtype=object),\n",
       " array(['7/6/2013 18:31:27', 150.0], dtype=object),\n",
       " array(['7/7/2013 3:40:22', 975.0], dtype=object),\n",
       " array(['7/7/2013 5:04:18', 200.0], dtype=object),\n",
       " array(['7/7/2013 5:42:15', 913.0], dtype=object),\n",
       " array(['7/7/2013 18:38:42', 253.0], dtype=object),\n",
       " array(['7/8/2013 1:21:41', 0.0], dtype=object),\n",
       " array(['7/8/2013 11:05:19', 557.0], dtype=object),\n",
       " array(['7/8/2013 11:12:44', 15.0], dtype=object),\n",
       " array(['7/9/2013 5:25:46', 118.0], dtype=object),\n",
       " array(['7/9/2013 10:21:34', 901.0], dtype=object),\n",
       " array(['7/9/2013 17:55:52', 500.0], dtype=object),\n",
       " array(['7/10/2013 2:39:22', 417.0], dtype=object),\n",
       " array(['7/10/2013 3:50:51', 431.0], dtype=object),\n",
       " array(['7/10/2013 4:52:38', 165.0], dtype=object),\n",
       " array(['7/10/2013 6:49:51', 1672.0], dtype=object),\n",
       " array(['7/10/2013 10:13:21', 230.0], dtype=object),\n",
       " array(['7/10/2013 14:42:30', 123.0], dtype=object),\n",
       " array(['7/10/2013 15:10:23', 429.0], dtype=object),\n",
       " array(['7/10/2013 20:32:38', 100.0], dtype=object),\n",
       " array(['7/11/2013 0:00:23', 600.0], dtype=object),\n",
       " array(['7/11/2013 12:53:10', 1500.0], dtype=object),\n",
       " array(['7/11/2013 14:26:35', 531.0], dtype=object),\n",
       " array(['7/11/2013 15:45:40', 473.0], dtype=object),\n",
       " array(['7/11/2013 17:02:36', 476.0], dtype=object),\n",
       " array(['7/11/2013 14:26:35', 531.0], dtype=object),\n",
       " array(['7/11/2013 15:45:40', 473.0], dtype=object),\n",
       " array(['7/11/2013 17:02:36', 476.0], dtype=object),\n",
       " array(['7/12/2013 14:20:24', 2.0], dtype=object),\n",
       " array(['7/12/2013 14:40:19', 355.0], dtype=object),\n",
       " array(['7/12/2013 19:52:03', 121.0], dtype=object),\n",
       " array(['7/14/2013 12:57:55', 1131.0], dtype=object),\n",
       " array(['7/14/2013 13:40:21', 204.0], dtype=object),\n",
       " array(['7/15/2013 2:59:29', 40.0], dtype=object),\n",
       " array(['7/15/2013 7:32:56', 332.0], dtype=object),\n",
       " array(['7/15/2013 8:33:26', 0.0], dtype=object),\n",
       " array(['7/15/2013 9:10:39', 0.0], dtype=object),\n",
       " array(['7/16/2013 7:12:14', 149.0], dtype=object),\n",
       " array(['7/16/2013 7:54:22', 1098.0], dtype=object),\n",
       " array(['7/16/2013 12:36:43', 138.0], dtype=object),\n",
       " array(['7/16/2013 16:52:38', 18.0], dtype=object),\n",
       " array(['7/16/2013 23:41:53', 175.0], dtype=object),\n",
       " array(['7/17/2013 1:49:43', 600.0], dtype=object),\n",
       " array(['7/17/2013 9:40:42', 254.0], dtype=object),\n",
       " array(['7/17/2013 10:12:46', 534.0], dtype=object),\n",
       " array(['7/17/2013 10:34:22', 300.0], dtype=object),\n",
       " array(['7/18/2013 8:41:21', 1316.0], dtype=object),\n",
       " array(['7/18/2013 10:15:09', 0.0], dtype=object),\n",
       " array(['7/18/2013 10:30:30', 913.0], dtype=object),\n",
       " array(['7/18/2013 10:58:39', 155.0], dtype=object),\n",
       " array(['7/18/2013 12:57:35', 524.0], dtype=object),\n",
       " array(['7/18/2013 14:15:55', 0.0], dtype=object),\n",
       " array(['7/18/2013 16:48:16', 80.0], dtype=object),\n",
       " array(['7/18/2013 23:01:21', 612.0], dtype=object),\n",
       " array(['7/19/2013 9:40:51', 0.0], dtype=object),\n",
       " array(['7/19/2013 14:26:25', 1461.0], dtype=object),\n",
       " array(['7/19/2013 18:36:17', 314.0], dtype=object),\n",
       " array(['7/19/2013 22:17:40', 1102.0], dtype=object),\n",
       " array(['7/20/2013 23:39:53', 171.0], dtype=object),\n",
       " array(['7/21/2013 5:10:53', 50.0], dtype=object),\n",
       " array(['7/21/2013 13:29:22', 70.0], dtype=object),\n",
       " array(['7/21/2013 15:54:41', 382.0], dtype=object),\n",
       " array(['7/21/2013 17:13:52', 331.0], dtype=object),\n",
       " array(['7/21/2013 21:54:46', 0.0], dtype=object),\n",
       " array(['7/22/2013 5:52:44', 773.0], dtype=object),\n",
       " array(['7/22/2013 16:16:38', 221.0], dtype=object),\n",
       " array(['7/22/2013 21:32:49', 555.0], dtype=object),\n",
       " array(['7/23/2013 7:41:43', 555.0], dtype=object),\n",
       " array(['7/23/2013 7:53:42', 400.0], dtype=object),\n",
       " array(['7/23/2013 11:09:22', 546.0], dtype=object),\n",
       " array(['7/23/2013 11:24:14', 0.0], dtype=object),\n",
       " array(['7/23/2013 12:00:26', 491.0], dtype=object),\n",
       " array(['7/23/2013 13:20:00', 245.0], dtype=object),\n",
       " array(['7/23/2013 13:37:07', 2000.0], dtype=object),\n",
       " array(['7/23/2013 20:11:56', 172.0], dtype=object),\n",
       " array(['7/24/2013 10:46:16', 470.0], dtype=object),\n",
       " array(['7/24/2013 11:40:56', 50.0], dtype=object),\n",
       " array(['7/24/2013 13:22:36', 75.0], dtype=object),\n",
       " array(['7/24/2013 14:47:38', 311.0], dtype=object),\n",
       " array(['7/24/2013 16:52:58', 613.0], dtype=object),\n",
       " array(['7/24/2013 17:01:59', 364.0], dtype=object),\n",
       " array(['7/24/2013 17:28:28', 88999999.0], dtype=object),\n",
       " array(['7/24/2013 18:47:41', 697.0], dtype=object),\n",
       " array(['7/24/2013 20:17:05', 383.0], dtype=object),\n",
       " array(['7/24/2013 23:10:09', 1006.0], dtype=object),\n",
       " array(['7/25/2013 10:33:37', 702.0], dtype=object),\n",
       " array(['7/25/2013 12:53:01', 117.0], dtype=object),\n",
       " array(['7/25/2013 16:42:02', 500.0], dtype=object),\n",
       " array(['7/25/2013 17:37:20', 189.0], dtype=object),\n",
       " array(['7/25/2013 21:33:06', 0.0], dtype=object),\n",
       " array(['7/26/2013 15:44:44', 77.0], dtype=object),\n",
       " array(['7/26/2013 18:21:50', 230.0], dtype=object),\n",
       " array(['7/27/2013 2:13:26', 23.0], dtype=object),\n",
       " array(['7/27/2013 8:53:37', 0.0], dtype=object),\n",
       " array(['7/28/2013 7:17:54', 246.0], dtype=object),\n",
       " array(['7/28/2013 13:34:17', 306.0], dtype=object),\n",
       " array(['7/29/2013 14:15:50', 248.0], dtype=object),\n",
       " array(['7/29/2013 14:24:32', 528.0], dtype=object),\n",
       " array(['7/29/2013 15:43:19', 379.0], dtype=object),\n",
       " array(['7/30/2013 1:42:26', 0.0], dtype=object),\n",
       " array(['7/30/2013 3:28:47', 70.0], dtype=object),\n",
       " array(['7/30/2013 9:53:42', 200.0], dtype=object),\n",
       " array(['7/30/2013 17:55:18', 376.0], dtype=object),\n",
       " array(['7/31/2013 1:18:03', 0.0], dtype=object),\n",
       " array(['7/31/2013 3:44:14', 116.0], dtype=object),\n",
       " array(['7/31/2013 14:37:04', 131.0], dtype=object),\n",
       " array(['7/31/2013 14:45:06', 0.0], dtype=object),\n",
       " array(['7/31/2013 21:00:29', 30.0], dtype=object),\n",
       " array(['7/31/2013 22:46:53', 112.0], dtype=object),\n",
       " array(['8/1/2013 4:37:14', 119.0], dtype=object),\n",
       " array(['8/1/2013 9:15:10', 208.0], dtype=object),\n",
       " array(['8/1/2013 20:22:44', 495.0], dtype=object),\n",
       " array(['8/2/2013 10:45:46', 61.0], dtype=object),\n",
       " array(['8/2/2013 12:12:34', 0.0], dtype=object),\n",
       " array(['8/2/2013 15:04:20', 243.0], dtype=object),\n",
       " array(['8/2/2013 15:33:06', 534.0], dtype=object),\n",
       " array(['8/2/2013 22:07:32', 136.0], dtype=object),\n",
       " array(['8/3/2013 4:12:59', 292.0], dtype=object),\n",
       " array(['8/3/2013 21:53:15', 0.0], dtype=object),\n",
       " array(['8/4/2013 0:39:25', 519.0], dtype=object),\n",
       " array(['8/4/2013 0:39:49', 0.0], dtype=object),\n",
       " array(['8/4/2013 7:52:54', 126.0], dtype=object),\n",
       " array(['8/4/2013 9:04:14', 737.0], dtype=object),\n",
       " array(['8/4/2013 9:44:14', 0.0], dtype=object),\n",
       " array(['8/5/2013 9:57:17', 262.0], dtype=object),\n",
       " array(['8/5/2013 10:24:53', 130.0], dtype=object),\n",
       " array(['8/5/2013 10:37:58', 474.0], dtype=object),\n",
       " array(['8/5/2013 18:44:54', 257.0], dtype=object),\n",
       " array(['8/6/2013 8:25:04', 264.0], dtype=object),\n",
       " array(['8/6/2013 22:05:35', 20.0], dtype=object),\n",
       " array(['8/7/2013 11:59:52', 250.0], dtype=object),\n",
       " array(['8/8/2013 9:29:51', 0.0], dtype=object),\n",
       " array(['8/8/2013 20:29:58', 56.0], dtype=object),\n",
       " array(['8/9/2013 18:12:31', 212.0], dtype=object),\n",
       " array(['8/10/2013 9:17:42', 196.0], dtype=object),\n",
       " array(['8/10/2013 18:34:12', 144.0], dtype=object),\n",
       " array(['8/10/2013 19:32:54', 980.0], dtype=object),\n",
       " array(['8/10/2013 23:28:58', 0.0], dtype=object),\n",
       " array(['8/11/2013 12:39:02', 0.0], dtype=object),\n",
       " array(['8/11/2013 18:29:02', 0.0], dtype=object),\n",
       " array(['8/12/2013 15:43:37', 0.0], dtype=object),\n",
       " array(['8/12/2013 21:15:16', 139.0], dtype=object),\n",
       " array(['8/13/2013 19:53:19', 773.0], dtype=object),\n",
       " array(['8/14/2013 10:30:09', 449.0], dtype=object),\n",
       " array(['8/14/2013 13:29:21', 347.0], dtype=object),\n",
       " array(['8/14/2013 23:26:59', 3.0], dtype=object),\n",
       " array(['8/15/2013 0:47:30', 315.0], dtype=object),\n",
       " array(['8/16/2013 12:14:09', 1000.0], dtype=object),\n",
       " array(['8/17/2013 9:07:35', 0.0], dtype=object),\n",
       " array(['8/17/2013 10:47:17', 485.0], dtype=object),\n",
       " array(['8/18/2013 18:13:54', 780.0], dtype=object),\n",
       " array(['8/19/2013 10:24:42', 0.0], dtype=object),\n",
       " array(['8/19/2013 11:48:17', 169.0], dtype=object),\n",
       " array(['8/19/2013 21:50:51', 270.0], dtype=object),\n",
       " array(['8/19/2013 21:55:16', 200.0], dtype=object),\n",
       " array(['8/21/2013 9:50:08', 707.0], dtype=object),\n",
       " array(['8/22/2013 4:22:03', 0.0], dtype=object),\n",
       " array(['8/22/2013 15:22:28', 42.0], dtype=object),\n",
       " array(['8/22/2013 17:11:36', 139.0], dtype=object),\n",
       " array(['8/22/2013 17:23:14', 563.0], dtype=object),\n",
       " array(['8/23/2013 10:28:13', 0.0], dtype=object),\n",
       " array(['8/24/2013 8:49:35', 266.0], dtype=object),\n",
       " array(['8/25/2013 6:34:37', 300.0], dtype=object),\n",
       " array(['8/26/2013 17:36:55', 0.0], dtype=object),\n",
       " array(['8/27/2013 2:35:50', 1175.0], dtype=object),\n",
       " array(['8/27/2013 6:50:35', 0.0], dtype=object),\n",
       " array(['8/27/2013 6:57:47', 0.0], dtype=object),\n",
       " array(['8/27/2013 10:31:39', 0.0], dtype=object),\n",
       " array(['8/27/2013 17:52:52', 130.0], dtype=object),\n",
       " array(['8/28/2013 7:57:00', 178.0], dtype=object),\n",
       " array(['8/28/2013 9:23:31', 902.0], dtype=object),\n",
       " array(['8/28/2013 9:42:49', 0.0], dtype=object),\n",
       " array(['8/28/2013 11:44:08', 0.0], dtype=object),\n",
       " array(['8/28/2013 21:03:37', 587.0], dtype=object),\n",
       " array(['8/29/2013 6:27:55', 337.0], dtype=object),\n",
       " array(['8/29/2013 7:07:49', 26.0], dtype=object),\n",
       " array(['8/29/2013 8:46:36', 65.0], dtype=object),\n",
       " array(['8/29/2013 8:47:28', 220.0], dtype=object),\n",
       " array(['8/29/2013 19:53:15', 1047.0], dtype=object),\n",
       " array(['8/30/2013 4:30:20', 500.0], dtype=object),\n",
       " array(['8/30/2013 7:21:43', 62.0], dtype=object),\n",
       " array(['8/30/2013 7:57:20', 122.0], dtype=object),\n",
       " array(['8/30/2013 14:32:50', 859.0], dtype=object),\n",
       " array(['8/31/2013 1:36:18', 15.0], dtype=object),\n",
       " array(['8/31/2013 7:02:39', 0.0], dtype=object),\n",
       " array(['8/31/2013 11:05:09', 70.0], dtype=object),\n",
       " array(['9/1/2013 12:26:51', 133.0], dtype=object),\n",
       " array(['9/1/2013 13:52:13', 24.0], dtype=object),\n",
       " array(['9/1/2013 14:02:41', 167.0], dtype=object),\n",
       " array(['9/2/2013 7:16:03', 299.0], dtype=object),\n",
       " array(['9/2/2013 8:28:00', 211.0], dtype=object),\n",
       " array(['9/2/2013 17:05:10', 588.0], dtype=object),\n",
       " array(['9/3/2013 14:34:04', 508.0], dtype=object),\n",
       " array(['9/3/2013 21:19:09', 628.0], dtype=object),\n",
       " array(['9/4/2013 12:29:35', 62.0], dtype=object),\n",
       " array(['9/4/2013 16:46:49', 0.0], dtype=object),\n",
       " array(['9/5/2013 11:27:26', 370.0], dtype=object),\n",
       " array(['9/5/2013 11:33:37', 297.0], dtype=object),\n",
       " array(['9/6/2013 11:39:17', 396.0], dtype=object),\n",
       " array(['9/6/2013 16:12:14', 979.0], dtype=object),\n",
       " array(['9/6/2013 19:35:52', 553.0], dtype=object),\n",
       " array(['9/6/2013 21:09:20', 289.0], dtype=object),\n",
       " array(['9/7/2013 3:32:34', 345.0], dtype=object),\n",
       " array(['9/7/2013 16:30:15', 190.0], dtype=object),\n",
       " array(['9/7/2013 18:04:01', 231.0], dtype=object),\n",
       " array(['9/8/2013 22:06:10', 759.0], dtype=object),\n",
       " array(['9/9/2013 12:59:25', 400.0], dtype=object),\n",
       " array(['9/9/2013 19:54:54', 1046.0], dtype=object),\n",
       " array(['9/9/2013 20:49:31', 285.0], dtype=object),\n",
       " array(['9/10/2013 0:03:10', 932.0], dtype=object),\n",
       " array(['9/10/2013 12:03:17', 511.0], dtype=object),\n",
       " array(['9/10/2013 13:37:54', 0.0], dtype=object),\n",
       " array(['9/10/2013 20:04:01', 514.0], dtype=object),\n",
       " array(['9/11/2013 9:04:34', 393.0], dtype=object),\n",
       " array(['9/11/2013 17:58:26', 1478.0], dtype=object),\n",
       " array(['9/12/2013 6:50:45', 1105.0], dtype=object),\n",
       " array(['9/12/2013 8:00:34', 262.0], dtype=object),\n",
       " array(['9/13/2013 4:53:00', 10.0], dtype=object),\n",
       " array(['9/13/2013 14:46:52', 300.0], dtype=object),\n",
       " array(['9/13/2013 15:01:40', 0.0], dtype=object),\n",
       " array(['9/14/2013 16:03:32', 0.0], dtype=object),\n",
       " array(['9/15/2013 3:06:56', 89.0], dtype=object),\n",
       " array(['9/15/2013 12:27:35', 134.0], dtype=object),\n",
       " array(['9/15/2013 13:32:55', 209.0], dtype=object),\n",
       " array(['9/15/2013 17:57:23', 779.0], dtype=object),\n",
       " array(['9/16/2013 15:28:48', 216.0], dtype=object),\n",
       " array(['9/16/2013 16:45:07', 295.0], dtype=object),\n",
       " array(['9/17/2013 22:11:11', 440.0], dtype=object),\n",
       " array(['9/17/2013 23:54:38', 400.0], dtype=object),\n",
       " array(['9/18/2013 2:19:19', 0.0], dtype=object),\n",
       " array(['9/18/2013 5:01:50', 0.0], dtype=object),\n",
       " array(['9/19/2013 3:16:28', 120.0], dtype=object),\n",
       " array(['9/20/2013 11:47:11', 366.0], dtype=object),\n",
       " array(['9/20/2013 14:36:05', 135.0], dtype=object),\n",
       " array(['9/21/2013 8:19:04', 875.0], dtype=object),\n",
       " array(['9/21/2013 12:41:25', 152.0], dtype=object),\n",
       " array(['9/21/2013 12:42:16', 336.0], dtype=object),\n",
       " array(['9/23/2013 5:32:30', 0.0], dtype=object),\n",
       " array(['9/23/2013 5:43:32', 51.0], dtype=object),\n",
       " array(['9/25/2013 11:07:34', 94.0], dtype=object),\n",
       " array(['9/26/2013 11:50:54', 10.0], dtype=object),\n",
       " array(['9/26/2013 11:53:33', 10.0], dtype=object),\n",
       " array(['9/26/2013 13:55:23', 450.0], dtype=object),\n",
       " array(['9/26/2013 19:58:39', 174.0], dtype=object),\n",
       " array(['9/27/2013 10:51:25', 130.0], dtype=object),\n",
       " array(['9/28/2013 0:03:34', 1.0], dtype=object),\n",
       " array(['9/28/2013 22:17:45', 454.0], dtype=object),\n",
       " array(['9/30/2013 7:06:02', 620.0], dtype=object),\n",
       " array(['9/30/2013 21:46:57', 0.0], dtype=object),\n",
       " array(['10/2/2013 20:14:24', 665.0], dtype=object),\n",
       " array(['10/2/2013 20:34:53', 148.0], dtype=object),\n",
       " array(['10/3/2013 6:38:09', 123.0], dtype=object),\n",
       " array(['10/8/2013 10:24:07', 196.0], dtype=object),\n",
       " array(['10/8/2013 17:12:46', 36.0], dtype=object),\n",
       " array(['10/8/2013 21:54:04', 299.0], dtype=object),\n",
       " array(['10/9/2013 12:24:00', 150.0], dtype=object),\n",
       " array(['10/9/2013 12:52:50', 100.0], dtype=object),\n",
       " array(['10/10/2013 19:39:08', 0.0], dtype=object),\n",
       " array(['10/11/2013 5:26:49', 53.0], dtype=object),\n",
       " array(['10/11/2013 6:11:12', 1850.0], dtype=object),\n",
       " array(['10/11/2013 18:04:58', 120.0], dtype=object),\n",
       " array(['10/12/2013 6:23:47', 0.0], dtype=object),\n",
       " array(['10/12/2013 9:10:21', 263.0], dtype=object),\n",
       " array(['10/12/2013 10:12:10', 76.0], dtype=object),\n",
       " array(['10/13/2013 10:06:41', 187.0], dtype=object),\n",
       " array(['10/13/2013 16:39:25', 180.0], dtype=object),\n",
       " array(['10/14/2013 14:06:15', 97.0], dtype=object),\n",
       " array(['10/15/2013 7:46:35', 450.0], dtype=object),\n",
       " array(['10/16/2013 0:21:27', 576.0], dtype=object),\n",
       " array(['10/16/2013 12:48:07', 20.0], dtype=object),\n",
       " array(['10/19/2013 11:09:03', 13.0], dtype=object),\n",
       " array(['10/21/2013 3:00:06', 482.0], dtype=object),\n",
       " array(['10/21/2013 8:17:01', 118.0], dtype=object),\n",
       " array(['10/21/2013 8:20:53', 339.0], dtype=object),\n",
       " array(['10/21/2013 19:06:29', 213.0], dtype=object),\n",
       " array(['10/22/2013 3:56:07', 204.0], dtype=object),\n",
       " array(['10/22/2013 14:22:29', 0.0], dtype=object),\n",
       " array(['10/27/2013 0:27:05', 5.0], dtype=object),\n",
       " array(['10/31/2013 17:29:11', 540.0], dtype=object),\n",
       " array(['11/2/2013 6:53:31', 562.0], dtype=object),\n",
       " array(['11/2/2013 21:44:00', 0.0], dtype=object),\n",
       " array(['11/3/2013 12:00:42', 0.0], dtype=object),\n",
       " array(['11/5/2013 9:09:38', 11.0], dtype=object),\n",
       " array(['11/5/2013 9:46:10', 0.0], dtype=object),\n",
       " array(['11/6/2013 14:30:37', 40.0], dtype=object),\n",
       " array(['11/6/2013 20:56:29', 108.0], dtype=object),\n",
       " array(['11/7/2013 13:49:55', 239.0], dtype=object),\n",
       " array(['11/7/2013 18:21:04', 0.0], dtype=object),\n",
       " array(['11/9/2013 7:24:14', 428.0], dtype=object),\n",
       " array(['11/10/2013 7:36:02', 1385.0], dtype=object),\n",
       " array(['11/10/2013 10:06:28', 540.0], dtype=object),\n",
       " array(['11/11/2013 15:57:25', 503.0], dtype=object),\n",
       " array(['11/12/2013 3:55:26', 740.0], dtype=object),\n",
       " array(['11/12/2013 10:10:59', 468.0], dtype=object),\n",
       " array(['11/13/2013 11:13:20', 0.0], dtype=object),\n",
       " array(['11/13/2013 23:12:16', 146.0], dtype=object),\n",
       " array(['11/15/2013 1:11:12', 140.0], dtype=object),\n",
       " array(['11/15/2013 8:19:47', 644.0], dtype=object),\n",
       " array(['11/15/2013 21:47:50', 265.0], dtype=object),\n",
       " array(['11/16/2013 8:11:02', 150.0], dtype=object),\n",
       " array(['11/16/2013 10:13:08', 0.0], dtype=object),\n",
       " array(['11/17/2013 16:58:14', 182.0], dtype=object),\n",
       " array(['11/18/2013 8:52:19', 369.0], dtype=object),\n",
       " array(['11/19/2013 9:10:43', 534.0], dtype=object),\n",
       " array(['11/19/2013 10:54:01', 153.0], dtype=object),\n",
       " array(['11/19/2013 14:59:47', 448.0], dtype=object),\n",
       " array(['11/20/2013 13:39:22', 20.0], dtype=object),\n",
       " array(['11/22/2013 7:29:43', 214.0], dtype=object),\n",
       " array(['11/22/2013 16:30:15', 0.0], dtype=object),\n",
       " array(['11/24/2013 9:13:46', 278.0], dtype=object),\n",
       " array(['11/24/2013 15:21:58', 173.0], dtype=object),\n",
       " array(['11/25/2013 10:43:00', 470.0], dtype=object),\n",
       " array(['11/25/2013 12:37:35', 420.0], dtype=object),\n",
       " array(['11/26/2013 11:00:12', 218.0], dtype=object),\n",
       " array(['11/27/2013 5:02:42', 188.0], dtype=object),\n",
       " array(['11/27/2013 18:14:23', 163.0], dtype=object),\n",
       " array(['11/27/2013 18:33:34', 0.0], dtype=object),\n",
       " array(['11/27/2013 23:25:49', 1082.0], dtype=object),\n",
       " array(['11/28/2013 3:18:43', 42.0], dtype=object),\n",
       " array(['11/28/2013 5:24:43', 50.0], dtype=object),\n",
       " array(['11/29/2013 9:49:01', 92.0], dtype=object),\n",
       " array(['11/30/2013 14:39:19', 258.0], dtype=object),\n",
       " array(['12/1/2013 3:38:46', 40.0], dtype=object),\n",
       " array(['12/1/2013 10:05:48', 40.0], dtype=object),\n",
       " array(['12/2/2013 1:49:27', 1014.0], dtype=object),\n",
       " array(['12/2/2013 9:28:02', 30.0], dtype=object),\n",
       " array(['12/2/2013 23:11:11', 777.0], dtype=object),\n",
       " array(['12/3/2013 14:00:42', 140.0], dtype=object),\n",
       " array(['12/3/2013 16:37:48', 344.0], dtype=object),\n",
       " array(['12/4/2013 8:18:47', 89.0], dtype=object),\n",
       " array(['12/4/2013 15:56:36', 18.0], dtype=object),\n",
       " array(['12/5/2013 19:08:55', 0.0], dtype=object),\n",
       " array(['12/6/2013 10:37:01', 20.0], dtype=object),\n",
       " array(['12/6/2013 11:55:50', 2.0], dtype=object),\n",
       " array(['12/6/2013 21:06:18', 0.0], dtype=object),\n",
       " array(['12/7/2013 4:13:54', 0.0], dtype=object),\n",
       " array(['12/7/2013 10:31:21', 168.0], dtype=object),\n",
       " array(['12/7/2013 11:58:59', 40.0], dtype=object),\n",
       " array(['12/7/2013 21:57:49', 309.0], dtype=object),\n",
       " array(['12/8/2013 2:04:03', 138.0], dtype=object),\n",
       " array(['12/8/2013 6:33:15', 235.0], dtype=object),\n",
       " array(['12/8/2013 9:49:54', 711.0], dtype=object),\n",
       " array(['12/8/2013 17:53:53', 300.0], dtype=object),\n",
       " array(['12/8/2013 20:23:24', 0.0], dtype=object),\n",
       " array(['12/9/2013 6:30:29', 323.0], dtype=object),\n",
       " array(['12/9/2013 16:47:16', 0.0], dtype=object),\n",
       " array(['12/9/2013 17:09:47', 0.0], dtype=object),\n",
       " array(['12/10/2013 3:43:40', 50.0], dtype=object),\n",
       " array(['12/11/2013 3:08:27', 0.0], dtype=object),\n",
       " array(['12/12/2013 5:44:30', 319.0], dtype=object),\n",
       " array(['12/12/2013 8:01:26', 566.0], dtype=object),\n",
       " array(['12/12/2013 9:39:06', 350.0], dtype=object),\n",
       " array(['12/12/2013 11:47:03', 0.0], dtype=object),\n",
       " array(['12/12/2013 14:08:21', 546.0], dtype=object),\n",
       " array(['12/12/2013 16:32:18', 112.0], dtype=object),\n",
       " array(['12/12/2013 16:51:46', 515.0], dtype=object),\n",
       " array(['12/13/2013 6:08:59', 1140.0], dtype=object),\n",
       " array(['12/13/2013 8:20:57', 20.0], dtype=object),\n",
       " array(['12/14/2013 10:35:35', 300.0], dtype=object),\n",
       " array(['12/15/2013 1:23:25', 225.0], dtype=object),\n",
       " array(['12/15/2013 10:06:37', 807.0], dtype=object),\n",
       " array(['12/16/2013 4:30:16', 1008.0], dtype=object),\n",
       " array(['12/16/2013 11:30:12', 41.0], dtype=object),\n",
       " array(['12/17/2013 6:03:49', 0.0], dtype=object),\n",
       " array(['12/17/2013 7:30:53', 0.0], dtype=object),\n",
       " array(['12/18/2013 1:34:12', 500.0], dtype=object),\n",
       " array(['12/18/2013 3:53:08', 0.0], dtype=object),\n",
       " array(['12/18/2013 6:37:51', 490.0], dtype=object),\n",
       " array(['12/18/2013 10:42:32', 215.0], dtype=object),\n",
       " array(['12/18/2013 23:26:19', 299.0], dtype=object),\n",
       " array(['12/18/2013 23:27:18', 500.0], dtype=object),\n",
       " array(['12/19/2013 6:24:53', 1245.0], dtype=object),\n",
       " array(['12/19/2013 7:57:57', 220.0], dtype=object),\n",
       " array(['12/20/2013 1:39:00', 797.0], dtype=object),\n",
       " array(['12/20/2013 16:31:51', 119.0], dtype=object),\n",
       " array(['12/21/2013 3:46:31', 1016.0], dtype=object),\n",
       " array(['12/21/2013 14:17:25', 100.0], dtype=object),\n",
       " array(['12/22/2013 5:25:01', 50.0], dtype=object),\n",
       " array(['12/22/2013 6:00:05', 584.0], dtype=object),\n",
       " array(['12/22/2013 7:52:45', 1008.0], dtype=object),\n",
       " array(['12/22/2013 14:30:20', 230.0], dtype=object),\n",
       " array(['12/23/2013 0:40:05', 143.0], dtype=object),\n",
       " array(['12/23/2013 0:48:26', 383.0], dtype=object),\n",
       " array(['12/23/2013 4:18:03', 98.0], dtype=object),\n",
       " array(['12/23/2013 9:06:42', 404.0], dtype=object),\n",
       " array(['12/25/2013 9:29:49', 780.0], dtype=object),\n",
       " array(['12/25/2013 11:12:15', 242.0], dtype=object),\n",
       " array(['12/25/2013 19:09:14', 395.0], dtype=object),\n",
       " array(['12/26/2013 8:09:50', 100.0], dtype=object),\n",
       " array(['12/27/2013 1:28:25', 350.0], dtype=object),\n",
       " array(['12/27/2013 8:28:34', 531.0], dtype=object),\n",
       " array(['12/27/2013 10:12:54', 0.0], dtype=object),\n",
       " array(['12/28/2013 5:01:19', 153.0], dtype=object),\n",
       " array(['12/28/2013 6:12:48', 0.0], dtype=object),\n",
       " array(['12/28/2013 11:52:53', 612.0], dtype=object),\n",
       " array(['12/29/2013 11:39:15', 0.0], dtype=object),\n",
       " array(['12/30/2013 9:15:13', 98.0], dtype=object),\n",
       " array(['12/30/2013 9:18:26', 531.0], dtype=object),\n",
       " array(['12/30/2013 11:25:59', 156.0], dtype=object),\n",
       " array(['12/30/2013 13:12:33', 0.0], dtype=object),\n",
       " array(['12/31/2013 7:06:30', 469.0], dtype=object),\n",
       " array(['12/31/2013 11:49:55', 198.0], dtype=object),\n",
       " array(['12/31/2013 15:01:37', 136.0], dtype=object),\n",
       " array(['1/1/2014 21:03:15', 0.0], dtype=object),\n",
       " array(['1/1/2014 23:00:07', 30.0], dtype=object),\n",
       " array(['1/2/2014 8:07:47', 300.0], dtype=object),\n",
       " array(['1/3/2014 0:33:59', 243.0], dtype=object),\n",
       " array(['1/3/2014 6:03:08', 1169.0], dtype=object),\n",
       " array(['1/3/2014 11:35:29', 1618.0], dtype=object),\n",
       " array(['1/3/2014 12:35:48', 569.0], dtype=object),\n",
       " array(['1/3/2014 13:15:04', 0.0], dtype=object),\n",
       " array(['1/4/2014 3:27:04', 116.0], dtype=object),\n",
       " array(['1/4/2014 4:05:19', 225.0], dtype=object),\n",
       " array(['1/4/2014 6:24:04', 1500.0], dtype=object),\n",
       " array(['1/5/2014 11:58:26', 71.0], dtype=object),\n",
       " array(['1/5/2014 14:36:32', 0.0], dtype=object),\n",
       " array(['1/5/2014 21:37:38', 90.0], dtype=object),\n",
       " array(['1/6/2014 13:17:39', 241.0], dtype=object),\n",
       " array(['1/6/2014 13:32:19', 741.0], dtype=object),\n",
       " array(['1/6/2014 17:21:51', 300.0], dtype=object),\n",
       " array(['1/6/2014 20:06:01', 200.0], dtype=object),\n",
       " array(['1/7/2014 3:29:45', 589.0], dtype=object),\n",
       " array(['1/7/2014 14:49:57', 220.0], dtype=object),\n",
       " array(['1/8/2014 6:47:56', 0.0], dtype=object),\n",
       " array(['1/9/2014 6:18:55', 0.0], dtype=object),\n",
       " array(['1/9/2014 16:48:39', 409.0], dtype=object),\n",
       " array(['1/9/2014 16:51:32', 127.0], dtype=object),\n",
       " array(['1/9/2014 18:43:48', 166.0], dtype=object),\n",
       " array(['1/10/2014 6:48:11', 41.0], dtype=object),\n",
       " array(['1/10/2014 13:23:53', 23.0], dtype=object),\n",
       " array(['1/11/2014 5:46:19', 238.0], dtype=object),\n",
       " array(['1/11/2014 11:43:31', 101.0], dtype=object),\n",
       " array(['1/12/2014 2:57:18', 0.0], dtype=object),\n",
       " array(['1/12/2014 6:21:20', 12.0], dtype=object),\n",
       " array(['1/12/2014 7:50:10', 331.0], dtype=object),\n",
       " array(['1/14/2014 17:27:08', 200.0], dtype=object),\n",
       " array(['1/14/2014 22:58:56', 576.0], dtype=object),\n",
       " array(['1/15/2014 0:50:51', 101.0], dtype=object),\n",
       " array(['1/15/2014 16:25:50', 0.0], dtype=object),\n",
       " array(['1/17/2014 3:39:13', 200.0], dtype=object),\n",
       " array(['1/17/2014 5:39:27', 255.0], dtype=object),\n",
       " array(['1/17/2014 15:10:35', 826.0], dtype=object),\n",
       " array(['1/17/2014 18:12:12', 15.0], dtype=object),\n",
       " array(['1/18/2014 12:27:53', 300.0], dtype=object),\n",
       " array(['1/18/2014 16:36:33', 236.0], dtype=object),\n",
       " array(['1/19/2014 4:15:58', 160.0], dtype=object),\n",
       " array(['1/19/2014 11:43:03', 340.0], dtype=object),\n",
       " array(['1/19/2014 22:43:55', 0.0], dtype=object),\n",
       " array(['1/20/2014 6:44:25', 109.0], dtype=object),\n",
       " array(['1/20/2014 10:41:03', 506.0], dtype=object),\n",
       " array(['1/20/2014 12:31:41', 345.0], dtype=object),\n",
       " array(['1/20/2014 17:42:15', 400.0], dtype=object),\n",
       " array(['1/20/2014 17:54:35', 1057.0], dtype=object),\n",
       " array(['1/21/2014 5:38:24', 372.0], dtype=object),\n",
       " array(['1/21/2014 5:51:51', 667.0], dtype=object),\n",
       " array(['1/21/2014 18:58:40', 0.0], dtype=object),\n",
       " array(['1/22/2014 0:00:41', 0.0], dtype=object),\n",
       " array(['1/22/2014 1:50:51', 0.0], dtype=object),\n",
       " array(['1/22/2014 16:46:11', 450.0], dtype=object),\n",
       " array(['1/22/2014 17:14:45', 479.0], dtype=object),\n",
       " array(['1/22/2014 17:25:21', 991.0], dtype=object),\n",
       " array(['1/22/2014 19:09:09', 144.0], dtype=object),\n",
       " array(['1/23/2014 5:30:21', 504.0], dtype=object),\n",
       " array(['1/23/2014 7:03:25', 300.0], dtype=object),\n",
       " array(['1/23/2014 9:06:05', 9.0], dtype=object),\n",
       " array(['1/24/2014 10:08:31', 339.0], dtype=object),\n",
       " array(['1/25/2014 1:00:09', 201.0], dtype=object),\n",
       " array(['1/25/2014 11:36:13', 219.0], dtype=object),\n",
       " array(['1/27/2014 16:05:45', 480.0], dtype=object),\n",
       " array(['1/28/2014 2:14:16', 326.0], dtype=object),\n",
       " array(['1/28/2014 6:18:33', 185.0], dtype=object),\n",
       " array(['1/29/2014 7:35:54', 1158.0], dtype=object),\n",
       " array(['1/29/2014 14:39:26', 200.0], dtype=object),\n",
       " array(['1/29/2014 16:13:34', 0.0], dtype=object),\n",
       " array(['1/30/2014 3:36:34', 0.0], dtype=object),\n",
       " array(['1/30/2014 23:31:24', 510.0], dtype=object),\n",
       " array(['1/31/2014 6:12:26', 130.0], dtype=object),\n",
       " array(['1/31/2014 10:08:25', 398.0], dtype=object),\n",
       " array(['2/1/2014 8:45:55', 29.0], dtype=object),\n",
       " array(['2/1/2014 10:47:17', 384.0], dtype=object),\n",
       " array(['2/1/2014 12:57:24', 391.0], dtype=object),\n",
       " array(['2/2/2014 11:00:17', 15.0], dtype=object),\n",
       " array(['2/2/2014 17:58:43', 387.0], dtype=object),\n",
       " array(['2/2/2014 23:50:33', 1300.0], dtype=object),\n",
       " array(['2/4/2014 15:04:23', 0.0], dtype=object),\n",
       " array(['2/6/2014 7:44:14', 45.0], dtype=object),\n",
       " array(['2/6/2014 17:12:45', 0.0], dtype=object),\n",
       " array(['2/6/2014 17:30:43', 1097.0], dtype=object),\n",
       " array(['2/9/2014 5:41:41', 60.0], dtype=object),\n",
       " array(['2/9/2014 21:16:52', 29.0], dtype=object),\n",
       " array(['2/9/2014 21:25:34', 540.0], dtype=object),\n",
       " array(['2/10/2014 11:25:00', 372.0], dtype=object),\n",
       " array(['2/10/2014 14:07:14', 627.0], dtype=object),\n",
       " array(['2/10/2014 14:07:20', 445.0], dtype=object),\n",
       " array(['2/11/2014 4:43:18', 0.0], dtype=object),\n",
       " array(['2/11/2014 19:18:49', 220.0], dtype=object),\n",
       " array(['2/11/2014 20:07:21', 338.0], dtype=object),\n",
       " array(['2/12/2014 11:40:30', 389.0], dtype=object),\n",
       " array(['2/12/2014 12:52:57', 883.0], dtype=object),\n",
       " array(['2/12/2014 12:53:42', 532.0], dtype=object),\n",
       " array(['2/12/2014 14:06:52', 167.0], dtype=object),\n",
       " array(['2/13/2014 4:00:10', 750.0], dtype=object),\n",
       " array(['2/13/2014 20:16:33', 0.0], dtype=object),\n",
       " array(['2/14/2014 10:31:27', 502.0], dtype=object),\n",
       " array(['2/14/2014 18:26:48', 616.0], dtype=object),\n",
       " array(['2/14/2014 19:08:11', 424.0], dtype=object),\n",
       " array(['2/15/2014 9:23:47', 300.0], dtype=object),\n",
       " array(['2/15/2014 15:36:02', 121.0], dtype=object),\n",
       " array(['2/15/2014 18:18:16', 767.0], dtype=object),\n",
       " array(['2/15/2014 18:51:22', 150.0], dtype=object),\n",
       " array(['2/16/2014 11:18:31', 297.0], dtype=object),\n",
       " array(['2/17/2014 12:36:21', 111.0], dtype=object),\n",
       " array(['2/16/2014 16:58:12', 485.0], dtype=object),\n",
       " array(['2/16/2014 23:06:02', 358.0], dtype=object),\n",
       " array(['2/17/2014 14:38:55', 829.0], dtype=object),\n",
       " array(['2/18/2014 13:36:43', 200.0], dtype=object),\n",
       " array(['2/18/2014 16:21:52', 178.0], dtype=object),\n",
       " array(['2/19/2014 20:09:20', 300.0], dtype=object),\n",
       " array(['2/20/2014 8:23:16', 36.0], dtype=object),\n",
       " array(['2/20/2014 11:10:46', 455.0], dtype=object),\n",
       " array(['2/21/2014 6:24:17', 113.0], dtype=object),\n",
       " array(['2/21/2014 7:01:07', 226.0], dtype=object),\n",
       " array(['2/21/2014 15:39:15', 300.0], dtype=object),\n",
       " array(['2/21/2014 23:01:38', 301.0], dtype=object),\n",
       " array(['2/22/2014 4:38:36', 127.0], dtype=object),\n",
       " array(['2/23/2014 15:27:49', 62.0], dtype=object),\n",
       " array(['2/25/2014 7:17:06', 168.0], dtype=object),\n",
       " array(['2/26/2014 16:02:16', 197.0], dtype=object),\n",
       " array(['2/27/2014 21:30:47', 13.0], dtype=object),\n",
       " array(['3/1/2014 17:57:33', 0.0], dtype=object),\n",
       " array(['3/2/2014 12:27:42', 12.0], dtype=object),\n",
       " array(['3/3/2014 7:52:14', 0.0], dtype=object),\n",
       " array(['3/2/2014 15:19:31', 80.0], dtype=object),\n",
       " array(['3/3/2014 20:19:09', 112.0], dtype=object),\n",
       " array(['3/4/2014 21:54:41', 2202.0], dtype=object),\n",
       " array(['3/5/2014 3:39:14', 229.0], dtype=object),\n",
       " array(['3/6/2014 9:12:05', 0.0], dtype=object),\n",
       " array(['3/6/2014 9:23:01', 0.0], dtype=object),\n",
       " array(['3/6/2014 14:31:39', 200.0], dtype=object),\n",
       " array(['3/7/2014 10:46:17', 309.0], dtype=object),\n",
       " array(['3/8/2014 0:17:39', 500.0], dtype=object),\n",
       " array(['3/8/2014 9:55:05', 25.0], dtype=object),\n",
       " array(['3/9/2014 0:12:09', 535.0], dtype=object),\n",
       " array(['3/9/2014 16:39:52', 500.0], dtype=object),\n",
       " array(['3/10/2014 6:05:18', 485.0], dtype=object),\n",
       " array(['3/11/2014 21:44:07', 425.0], dtype=object),\n",
       " array(['3/12/2014 21:54:17', 0.0], dtype=object),\n",
       " array(['3/13/2014 22:40:54', 336.0], dtype=object),\n",
       " array(['3/14/2014 7:39:43', 1055.0], dtype=object),\n",
       " array(['3/14/2014 11:09:58', 580.0], dtype=object),\n",
       " array(['3/15/2014 1:59:21', 351.0], dtype=object),\n",
       " array(['3/17/2014 16:02:19', 318.0], dtype=object),\n",
       " array(['3/17/2014 20:33:24', 115.0], dtype=object),\n",
       " array(['3/20/2014 13:23:22', 1897.0], dtype=object),\n",
       " array(['3/21/2014 13:45:39', 113.0], dtype=object),\n",
       " array(['3/22/2014 7:10:38', 280.0], dtype=object),\n",
       " array(['3/23/2014 6:16:40', 400.0], dtype=object),\n",
       " array(['3/22/2014 20:32:54', 0.0], dtype=object),\n",
       " array(['3/23/2014 10:21:04', 0.0], dtype=object),\n",
       " array(['3/23/2014 20:48:08', 543.0], dtype=object),\n",
       " array(['3/24/2014 14:34:49', 10.0], dtype=object),\n",
       " array(['3/25/2014 12:04:05', 0.0], dtype=object),\n",
       " array(['3/25/2014 13:54:22', 700.0], dtype=object),\n",
       " array(['3/25/2014 16:21:29', 137.0], dtype=object),\n",
       " array(['3/26/2014 2:04:30', 0.0], dtype=object),\n",
       " array(['3/26/2014 11:05:03', 292.0], dtype=object),\n",
       " array(['3/27/2014 3:11:35', 0.0], dtype=object),\n",
       " array(['3/27/2014 7:42:37', 189.0], dtype=object),\n",
       " array(['3/27/2014 12:48:59', 609.0], dtype=object),\n",
       " array(['3/27/2014 16:22:34', 123.0], dtype=object),\n",
       " array(['3/28/2014 13:53:34', 341.0], dtype=object),\n",
       " array(['4/1/2014 20:03:56', 102.0], dtype=object),\n",
       " array(['4/3/2014 1:41:25', 247.0], dtype=object),\n",
       " array(['4/4/2014 9:39:01', 0.0], dtype=object),\n",
       " array(['4/6/2014 10:47:37', 393.0], dtype=object),\n",
       " array(['4/7/2014 6:14:40', 0.0], dtype=object),\n",
       " array(['4/8/2014 9:22:20', 231.0], dtype=object),\n",
       " array(['4/9/2014 12:56:52', 667.0], dtype=object),\n",
       " array(['4/10/2014 13:41:57', 625.0], dtype=object),\n",
       " array(['4/10/2014 21:44:16', 533.0], dtype=object),\n",
       " array(['4/11/2014 15:18:07', 0.0], dtype=object),\n",
       " array(['4/13/2014 5:42:42', 300.0], dtype=object),\n",
       " array(['4/14/2014 22:05:56', 611.0], dtype=object),\n",
       " array(['4/15/2014 17:04:01', 0.0], dtype=object),\n",
       " array(['4/16/2014 1:12:01', 270.0], dtype=object),\n",
       " array(['4/16/2014 16:14:16', 554.0], dtype=object),\n",
       " array(['4/16/2014 16:59:13', 601.0], dtype=object),\n",
       " array(['4/17/2014 6:47:31', nan], dtype=object),\n",
       " array(['4/17/2014 8:57:19', 70.0], dtype=object),\n",
       " array(['4/17/2014 13:44:57', 0.0], dtype=object),\n",
       " array(['4/17/2014 21:15:56', 101.0], dtype=object),\n",
       " array(['4/19/2014 4:47:02', 30.0], dtype=object),\n",
       " array(['4/19/2014 15:49:45', 3.0], dtype=object),\n",
       " array(['4/21/2014 4:10:53', 479.0], dtype=object),\n",
       " array(['4/21/2014 0:09:10', 0.0], dtype=object),\n",
       " array(['4/22/2014 2:03:00', 166.0], dtype=object),\n",
       " array(['4/22/2014 5:37:17', 430.0], dtype=object),\n",
       " array(['4/22/2014 7:43:45', 336.0], dtype=object),\n",
       " array(['4/23/2014 2:08:38', 0.0], dtype=object),\n",
       " array(['4/23/2014 10:25:14', 250.0], dtype=object),\n",
       " array(['4/24/2014 7:15:44', 228.0], dtype=object),\n",
       " array(['4/24/2014 14:27:25', 245.0], dtype=object),\n",
       " array(['4/24/2014 21:19:51', 66.0], dtype=object),\n",
       " array(['4/25/2014 9:56:58', 432.0], dtype=object),\n",
       " array(['4/25/2014 17:54:03', 57.0], dtype=object),\n",
       " array(['4/26/2014 19:42:20', 290.0], dtype=object),\n",
       " array(['4/27/2014 1:41:07', 224.0], dtype=object),\n",
       " array(['4/27/2014 19:37:55', 720.0], dtype=object),\n",
       " array(['4/28/2014 2:48:56', 236.0], dtype=object),\n",
       " array(['4/28/2014 7:38:05', 196.0], dtype=object),\n",
       " array(['4/28/2014 20:05:39', 2.0], dtype=object),\n",
       " array(['4/28/2014 20:48:28', 234.0], dtype=object),\n",
       " array(['4/29/2014 1:23:08', 93.0], dtype=object),\n",
       " array(['4/29/2014 14:33:20', 80.0], dtype=object),\n",
       " array(['4/29/2014 14:56:41', 996.0], dtype=object),\n",
       " array(['4/30/2014 8:16:03', 0.0], dtype=object),\n",
       " array(['5/1/2014 12:41:39', 445.0], dtype=object),\n",
       " array(['5/1/2014 17:56:37', 29.0], dtype=object),\n",
       " array(['5/1/2014 18:29:34', 248.0], dtype=object),\n",
       " array(['5/2/2014 11:07:04', 500.0], dtype=object),\n",
       " array(['5/2/2014 11:07:50', 667.0], dtype=object),\n",
       " array(['5/2/2014 11:58:55', 110.0], dtype=object),\n",
       " array(['5/4/2014 0:18:27', 187.0], dtype=object),\n",
       " array(['5/4/2014 6:46:06', 250.0], dtype=object),\n",
       " array(['5/4/2014 19:01:45', 6.0], dtype=object),\n",
       " array(['5/8/2014 8:11:29', 175.0], dtype=object),\n",
       " array(['5/8/2014 14:01:04', 0.0], dtype=object),\n",
       " array(['5/9/2014 8:43:48', 0.0], dtype=object),\n",
       " array(['5/9/2014 14:30:59', 403.0], dtype=object),\n",
       " array(['5/10/2014 10:26:35', 350.0], dtype=object),\n",
       " array(['5/10/2014 12:15:41', 395.0], dtype=object),\n",
       " array(['5/11/2014 14:50:42', 0.0], dtype=object),\n",
       " array(['5/12/2014 7:21:01', 250.0], dtype=object),\n",
       " array(['5/13/2014 2:47:11', 461.0], dtype=object),\n",
       " array(['5/14/2014 12:58:21', 504.0], dtype=object),\n",
       " array(['5/15/2014 14:52:20', 100.0], dtype=object),\n",
       " array(['5/16/2014 23:46:33', 0.0], dtype=object),\n",
       " array(['5/17/2014 10:16:39', 187.0], dtype=object),\n",
       " array(['5/18/2014 1:54:20', 299.0], dtype=object),\n",
       " array(['5/18/2014 14:27:13', 100.0], dtype=object),\n",
       " array(['5/18/2014 20:30:09', 100.0], dtype=object),\n",
       " array(['5/19/2014 13:35:04', 301.0], dtype=object),\n",
       " array(['5/19/2014 14:46:57', 614.0], dtype=object),\n",
       " array(['5/20/2014 18:31:03', 3000.0], dtype=object),\n",
       " array(['5/21/2014 11:07:17', 724.0], dtype=object),\n",
       " array(['5/22/2014 2:14:59', 307.0], dtype=object),\n",
       " array(['5/23/2014 6:15:40', 137.0], dtype=object),\n",
       " array(['5/23/2014 8:25:35', 993.0], dtype=object),\n",
       " array(['5/24/2014 2:10:11', 400.0], dtype=object),\n",
       " array(['5/24/2014 12:05:47', 300.0], dtype=object),\n",
       " array(['5/25/2014 16:32:45', 175.0], dtype=object),\n",
       " array(['5/26/2014 16:25:37', 503.0], dtype=object),\n",
       " array(['5/26/2014 22:40:50', 0.0], dtype=object),\n",
       " array(['5/27/2014 1:18:18', 0.0], dtype=object),\n",
       " array(['5/27/2014 5:36:40', 108.0], dtype=object),\n",
       " array(['5/27/2014 5:36:36', 108.0], dtype=object),\n",
       " array(['5/27/2014 5:36:41', 108.0], dtype=object),\n",
       " array(['5/27/2014 6:42:22', 599.0], dtype=object),\n",
       " array(['5/29/2014 5:37:07', 169.0], dtype=object),\n",
       " array(['5/29/2014 17:27:02', 0.0], dtype=object),\n",
       " array(['5/30/2014 10:45:33', 174.0], dtype=object),\n",
       " array(['5/30/2014 18:06:20', 558.0], dtype=object),\n",
       " array(['5/31/2014 6:10:32', 6.0], dtype=object),\n",
       " array(['6/2/2014 9:22:36', 350.0], dtype=object),\n",
       " array(['6/4/2014 2:06:49', 435.0], dtype=object),\n",
       " array(['6/4/2014 15:17:37', 30.0], dtype=object),\n",
       " array(['6/5/2014 4:11:24', 231.0], dtype=object),\n",
       " array(['6/5/2014 7:24:49', 410.0], dtype=object),\n",
       " array(['6/5/2014 14:20:29', 385.0], dtype=object),\n",
       " array(['6/7/2014 0:25:18', 0.0], dtype=object),\n",
       " array(['6/7/2014 1:39:17', 130.0], dtype=object),\n",
       " array(['6/7/2014 1:46:01', 43.0], dtype=object),\n",
       " array(['6/7/2014 6:44:39', 210.0], dtype=object),\n",
       " array(['6/7/2014 6:45:28', 210.0], dtype=object),\n",
       " array(['6/10/2014 14:06:23', 400.0], dtype=object),\n",
       " array(['6/10/2014 19:36:52', 69.0], dtype=object),\n",
       " array(['6/11/2014 20:11:42', 1082.0], dtype=object),\n",
       " array(['6/12/2014 7:14:45', 53.0], dtype=object),\n",
       " array(['6/13/2014 4:14:54', 30.0], dtype=object),\n",
       " array(['6/14/2014 9:11:39', 245.0], dtype=object),\n",
       " array(['6/14/2014 12:00:44', 193.0], dtype=object),\n",
       " array(['6/15/2014 16:06:38', 0.0], dtype=object),\n",
       " array(['6/15/2014 21:18:36', 40.0], dtype=object),\n",
       " array(['6/17/2014 3:34:20', 400.0], dtype=object),\n",
       " array(['6/17/2014 18:57:56', 150.0], dtype=object),\n",
       " array(['6/18/2014 1:24:31', 50.0], dtype=object),\n",
       " array(['6/18/2014 8:50:08', 0.0], dtype=object),\n",
       " array(['6/19/2014 11:04:14', nan], dtype=object),\n",
       " array(['6/19/2014 14:22:46', 93.0], dtype=object),\n",
       " array(['6/19/2014 18:56:33', 46.0], dtype=object),\n",
       " array(['6/20/2014 6:55:21', 425.0], dtype=object),\n",
       " array(['6/20/2014 12:46:35', 36.0], dtype=object),\n",
       " array(['6/20/2014 13:52:16', 196.0], dtype=object),\n",
       " array(['6/20/2014 18:21:44', 127.0], dtype=object),\n",
       " array(['6/21/2014 3:56:47', 298.0], dtype=object),\n",
       " array(['6/21/2014 11:57:42', 0.0], dtype=object),\n",
       " array(['6/21/2014 13:11:32', 952.0], dtype=object),\n",
       " array(['6/22/2014 3:45:07', 0.0], dtype=object),\n",
       " array(['6/22/2014 8:29:32', 450.0], dtype=object),\n",
       " array(['6/22/2014 13:30:03', 389.0], dtype=object),\n",
       " array(['6/22/2014 18:38:29', 154.0], dtype=object),\n",
       " ...]"
      ]
     },
     "execution_count": 36,
     "metadata": {},
     "output_type": "execute_result"
    }
   ],
   "source": [
    "# Eyballing the nan values\n",
    "list(fb_friends.values)"
   ]
  },
  {
   "cell_type": "code",
   "execution_count": 37,
   "metadata": {
    "ExecuteTime": {
     "end_time": "2021-02-01T16:23:39.642540Z",
     "start_time": "2021-02-01T16:23:39.634835Z"
    }
   },
   "outputs": [
    {
     "data": {
      "text/plain": [
       "4.827695855773887e+63"
      ]
     },
     "execution_count": 37,
     "metadata": {},
     "output_type": "execute_result"
    }
   ],
   "source": [
    "# The nan values affects the outcome of means\n",
    "fb_friends['How many Facebook friends do you have?'].mean()"
   ]
  },
  {
   "cell_type": "code",
   "execution_count": 38,
   "metadata": {
    "ExecuteTime": {
     "end_time": "2021-02-01T16:23:41.407559Z",
     "start_time": "2021-02-01T16:23:41.402025Z"
    }
   },
   "outputs": [],
   "source": [
    "# Replace nan with 0\n",
    "fb_friends['How many Facebook friends do you have?'] = fb_friends['How many Facebook friends do you have?'].fillna(0)"
   ]
  },
  {
   "cell_type": "code",
   "execution_count": 39,
   "metadata": {
    "ExecuteTime": {
     "end_time": "2021-02-01T16:23:42.361789Z",
     "start_time": "2021-02-01T16:23:42.348695Z"
    }
   },
   "outputs": [
    {
     "data": {
      "text/plain": [
       "Timestamp                                 0\n",
       "How many Facebook friends do you have?    0\n",
       "dtype: int64"
      ]
     },
     "execution_count": 39,
     "metadata": {},
     "output_type": "execute_result"
    }
   ],
   "source": [
    "# Voila\n",
    "fb_friends.isnull().sum()"
   ]
  },
  {
   "cell_type": "code",
   "execution_count": 40,
   "metadata": {
    "ExecuteTime": {
     "end_time": "2021-02-01T16:23:42.939071Z",
     "start_time": "2021-02-01T16:23:42.913918Z"
    }
   },
   "outputs": [
    {
     "data": {
      "text/html": [
       "<div>\n",
       "<style scoped>\n",
       "    .dataframe tbody tr th:only-of-type {\n",
       "        vertical-align: middle;\n",
       "    }\n",
       "\n",
       "    .dataframe tbody tr th {\n",
       "        vertical-align: top;\n",
       "    }\n",
       "\n",
       "    .dataframe thead th {\n",
       "        text-align: right;\n",
       "    }\n",
       "</style>\n",
       "<table border=\"1\" class=\"dataframe\">\n",
       "  <thead>\n",
       "    <tr style=\"text-align: right;\">\n",
       "      <th></th>\n",
       "      <th>Timestamp</th>\n",
       "      <th>How many Facebook friends do you have?</th>\n",
       "    </tr>\n",
       "  </thead>\n",
       "  <tbody>\n",
       "    <tr>\n",
       "      <th>5119</th>\n",
       "      <td>10/21/2016 16:29:28</td>\n",
       "      <td>300.0</td>\n",
       "    </tr>\n",
       "    <tr>\n",
       "      <th>17497</th>\n",
       "      <td>12/30/2019 12:05:41</td>\n",
       "      <td>482.0</td>\n",
       "    </tr>\n",
       "    <tr>\n",
       "      <th>16399</th>\n",
       "      <td>9/1/2019 9:36:41</td>\n",
       "      <td>200.0</td>\n",
       "    </tr>\n",
       "    <tr>\n",
       "      <th>5459</th>\n",
       "      <td>11/27/2016 2:34:31</td>\n",
       "      <td>2000.0</td>\n",
       "    </tr>\n",
       "    <tr>\n",
       "      <th>10178</th>\n",
       "      <td>2/7/2018 4:07:36</td>\n",
       "      <td>350.0</td>\n",
       "    </tr>\n",
       "    <tr>\n",
       "      <th>...</th>\n",
       "      <td>...</td>\n",
       "      <td>...</td>\n",
       "    </tr>\n",
       "    <tr>\n",
       "      <th>7483</th>\n",
       "      <td>5/15/2017 17:46:18</td>\n",
       "      <td>450.0</td>\n",
       "    </tr>\n",
       "    <tr>\n",
       "      <th>3655</th>\n",
       "      <td>6/19/2016 15:39:33</td>\n",
       "      <td>970.0</td>\n",
       "    </tr>\n",
       "    <tr>\n",
       "      <th>6968</th>\n",
       "      <td>3/30/2017 16:11:15</td>\n",
       "      <td>467.0</td>\n",
       "    </tr>\n",
       "    <tr>\n",
       "      <th>15325</th>\n",
       "      <td>11/1/2018 10:47:32</td>\n",
       "      <td>990.0</td>\n",
       "    </tr>\n",
       "    <tr>\n",
       "      <th>12702</th>\n",
       "      <td>5/28/2018 5:33:16</td>\n",
       "      <td>841.0</td>\n",
       "    </tr>\n",
       "  </tbody>\n",
       "</table>\n",
       "<p>1896 rows × 2 columns</p>\n",
       "</div>"
      ],
      "text/plain": [
       "                 Timestamp  How many Facebook friends do you have?\n",
       "5119   10/21/2016 16:29:28                                   300.0\n",
       "17497  12/30/2019 12:05:41                                   482.0\n",
       "16399     9/1/2019 9:36:41                                   200.0\n",
       "5459    11/27/2016 2:34:31                                  2000.0\n",
       "10178     2/7/2018 4:07:36                                   350.0\n",
       "...                    ...                                     ...\n",
       "7483    5/15/2017 17:46:18                                   450.0\n",
       "3655    6/19/2016 15:39:33                                   970.0\n",
       "6968    3/30/2017 16:11:15                                   467.0\n",
       "15325   11/1/2018 10:47:32                                   990.0\n",
       "12702    5/28/2018 5:33:16                                   841.0\n",
       "\n",
       "[1896 rows x 2 columns]"
      ]
     },
     "execution_count": 40,
     "metadata": {},
     "output_type": "execute_result"
    }
   ],
   "source": [
    "sample_1 = fb_friends.sample(frac=0.1, random_state=1)\n",
    "sample_1"
   ]
  },
  {
   "cell_type": "code",
   "execution_count": 42,
   "metadata": {
    "ExecuteTime": {
     "end_time": "2021-02-01T16:24:10.309494Z",
     "start_time": "2021-02-01T16:24:10.293442Z"
    }
   },
   "outputs": [
    {
     "data": {
      "text/html": [
       "<div>\n",
       "<style scoped>\n",
       "    .dataframe tbody tr th:only-of-type {\n",
       "        vertical-align: middle;\n",
       "    }\n",
       "\n",
       "    .dataframe tbody tr th {\n",
       "        vertical-align: top;\n",
       "    }\n",
       "\n",
       "    .dataframe thead th {\n",
       "        text-align: right;\n",
       "    }\n",
       "</style>\n",
       "<table border=\"1\" class=\"dataframe\">\n",
       "  <thead>\n",
       "    <tr style=\"text-align: right;\">\n",
       "      <th></th>\n",
       "      <th>Detroit Red Wings</th>\n",
       "      <th>San Jose Sharks</th>\n",
       "    </tr>\n",
       "  </thead>\n",
       "  <tbody>\n",
       "    <tr>\n",
       "      <th>0</th>\n",
       "      <td>73</td>\n",
       "      <td>73</td>\n",
       "    </tr>\n",
       "    <tr>\n",
       "      <th>1</th>\n",
       "      <td>75</td>\n",
       "      <td>74</td>\n",
       "    </tr>\n",
       "    <tr>\n",
       "      <th>2</th>\n",
       "      <td>70</td>\n",
       "      <td>73</td>\n",
       "    </tr>\n",
       "    <tr>\n",
       "      <th>3</th>\n",
       "      <td>72</td>\n",
       "      <td>73</td>\n",
       "    </tr>\n",
       "    <tr>\n",
       "      <th>4</th>\n",
       "      <td>71</td>\n",
       "      <td>74</td>\n",
       "    </tr>\n",
       "  </tbody>\n",
       "</table>\n",
       "</div>"
      ],
      "text/plain": [
       "   Detroit Red Wings  San Jose Sharks\n",
       "0                 73               73\n",
       "1                 75               74\n",
       "2                 70               73\n",
       "3                 72               73\n",
       "4                 71               74"
      ]
     },
     "execution_count": 42,
     "metadata": {},
     "output_type": "execute_result"
    }
   ],
   "source": [
    " # A sample of NHL height data for Detroit Red Wings & San Jose Sharks\n",
    "file = 'NHL - Problem Set 3 .csv'\n",
    "nhl_heights = pd.read_csv(file)\n",
    "nhl_heights.head()"
   ]
  },
  {
   "cell_type": "code",
   "execution_count": 43,
   "metadata": {
    "ExecuteTime": {
     "end_time": "2021-02-01T16:25:01.103587Z",
     "start_time": "2021-02-01T16:25:01.088406Z"
    }
   },
   "outputs": [
    {
     "name": "stdout",
     "output_type": "stream",
     "text": [
      "<class 'pandas.core.frame.DataFrame'>\n",
      "RangeIndex: 28 entries, 0 to 27\n",
      "Data columns (total 2 columns):\n",
      " #   Column             Non-Null Count  Dtype\n",
      "---  ------             --------------  -----\n",
      " 0   Detroit Red Wings  28 non-null     int64\n",
      " 1   San Jose Sharks    28 non-null     int64\n",
      "dtypes: int64(2)\n",
      "memory usage: 576.0 bytes\n"
     ]
    }
   ],
   "source": [
    "# A summary info of the dataframe\n",
    "nhl_heights.info()"
   ]
  },
  {
   "cell_type": "code",
   "execution_count": 44,
   "metadata": {
    "ExecuteTime": {
     "end_time": "2021-02-01T16:27:45.045389Z",
     "start_time": "2021-02-01T16:27:45.037985Z"
    }
   },
   "outputs": [
    {
     "data": {
      "text/plain": [
       "(28, 2)"
      ]
     },
     "execution_count": 44,
     "metadata": {},
     "output_type": "execute_result"
    }
   ],
   "source": [
    "# The shape of the dataframe\n",
    "nhl_heights.shape"
   ]
  },
  {
   "cell_type": "code",
   "execution_count": 50,
   "metadata": {
    "ExecuteTime": {
     "end_time": "2021-02-01T16:36:27.254976Z",
     "start_time": "2021-02-01T16:36:26.825191Z"
    }
   },
   "outputs": [
    {
     "data": {
      "image/png": "[encoded data removed]",
      "text/plain": [
       "<Figure size 842.4x595.44 with 1 Axes>"
      ]
     },
     "metadata": {},
     "output_type": "display_data"
    }
   ],
   "source": [
    "# Visualizing the height data\n",
    "sns.set(rc={'figure.figsize':(11.7,8.27)})\n",
    "sns.histplot(data=nhl_heights, x='Detroit Red Wings');"
   ]
  },
  {
   "cell_type": "code",
   "execution_count": 56,
   "metadata": {
    "ExecuteTime": {
     "end_time": "2021-02-01T16:48:11.459253Z",
     "start_time": "2021-02-01T16:48:10.889835Z"
    }
   },
   "outputs": [
    {
     "data": {
      "image/png": "[encoded data removed]",
      "text/plain": [
       "<Figure size 842.4x595.44 with 1 Axes>"
      ]
     },
     "metadata": {},
     "output_type": "display_data"
    }
   ],
   "source": [
    "sns.histplot(data=nhl_heights, x='San Jose Sharks');"
   ]
  },
  {
   "cell_type": "code",
   "execution_count": 65,
   "metadata": {
    "ExecuteTime": {
     "end_time": "2021-02-01T16:56:23.153254Z",
     "start_time": "2021-02-01T16:56:23.145687Z"
    }
   },
   "outputs": [
    {
     "name": "stdout",
     "output_type": "stream",
     "text": [
      "The mean height for Detroit Red Wings: 72.86 inches\n"
     ]
    }
   ],
   "source": [
    "# What is the mean height for Detroit Red Wings?\n",
    "mean_height_detroit = nhl_heights['Detroit Red Wings'].mean()\n",
    "print('The mean height for Detroit Red Wings:', round(mean_height_detroit,2), 'inches')"
   ]
  },
  {
   "cell_type": "code",
   "execution_count": 66,
   "metadata": {
    "ExecuteTime": {
     "end_time": "2021-02-01T16:56:39.921678Z",
     "start_time": "2021-02-01T16:56:39.914338Z"
    }
   },
   "outputs": [
    {
     "name": "stdout",
     "output_type": "stream",
     "text": [
      "The mean height for San Jose Sharks: 63.29 inches\n"
     ]
    }
   ],
   "source": [
    "# What is the mean height for San Jose Sharks?\n",
    "mean_height_jose = nhl_heights['San Jose Sharks'].mean()\n",
    "print('The mean height for San Jose Sharks:', round(mean_height_jose,2), 'inches')"
   ]
  },
  {
   "cell_type": "code",
   "execution_count": 67,
   "metadata": {
    "ExecuteTime": {
     "end_time": "2021-02-01T16:57:37.131493Z",
     "start_time": "2021-02-01T16:57:37.123953Z"
    }
   },
   "outputs": [
    {
     "name": "stdout",
     "output_type": "stream",
     "text": [
      "The median height for Detroit Red Wings: 72.5 inches\n"
     ]
    }
   ],
   "source": [
    "# What is the median height for Detroit Red Wings?\n",
    "median_height_detroit = nhl_heights['Detroit Red Wings'].median()\n",
    "print('The median height for Detroit Red Wings:', round(median_height_detroit,2), 'inches')"
   ]
  },
  {
   "cell_type": "code",
   "execution_count": 68,
   "metadata": {
    "ExecuteTime": {
     "end_time": "2021-02-01T16:59:17.809007Z",
     "start_time": "2021-02-01T16:59:17.801659Z"
    }
   },
   "outputs": [
    {
     "name": "stdout",
     "output_type": "stream",
     "text": [
      "The median height for San Jose Sharks: 73.5 inches\n"
     ]
    }
   ],
   "source": [
    "# What is the median height for San Jose Sharks?\n",
    "median_height_jose = nhl_heights['San Jose Sharks'].median()\n",
    "print('The median height for San Jose Sharks:', round(median_height_jose,2), 'inches')"
   ]
  },
  {
   "cell_type": "code",
   "execution_count": null,
   "metadata": {},
   "outputs": [],
   "source": []
  }
 ],
 "metadata": {
  "kernelspec": {
   "display_name": "Python 3",
   "language": "python",
   "name": "python3"
  },
  "language_info": {
   "codemirror_mode": {
    "name": "ipython",
    "version": 3
   },
   "file_extension": ".py",
   "mimetype": "text/x-python",
   "name": "python",
   "nbconvert_exporter": "python",
   "pygments_lexer": "ipython3",
   "version": "3.8.5"
  }
 },
 "nbformat": 4,
 "nbformat_minor": 4
}
