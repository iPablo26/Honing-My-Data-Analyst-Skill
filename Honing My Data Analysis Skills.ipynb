{
 "cells": [
  {
   "cell_type": "markdown",
   "metadata": {},
   "source": [
    "### We have sleep data and we need to answer the question: You have an exam tomorrow, should you get a good night sleep? Would it matter?"
   ]
  },
  {
   "cell_type": "code",
   "execution_count": 1,
   "metadata": {},
   "outputs": [
    {
     "name": "stdout",
     "output_type": "stream",
     "text": [
      "BBC Results .csv                     README.md\r\n",
      "Honing My Data Analysis Skills.ipynb\r\n"
     ]
    }
   ],
   "source": [
    "!ls"
   ]
  },
  {
   "cell_type": "code",
   "execution_count": 2,
   "metadata": {},
   "outputs": [],
   "source": [
    "# Import pandas for data analysis and numpy for numerical analysis\n",
    "import pandas as pd\n",
    "import numpy as np"
   ]
  },
  {
   "cell_type": "code",
   "execution_count": 3,
   "metadata": {},
   "outputs": [
    {
     "data": {
      "text/html": [
       "<div>\n",
       "<style scoped>\n",
       "    .dataframe tbody tr th:only-of-type {\n",
       "        vertical-align: middle;\n",
       "    }\n",
       "\n",
       "    .dataframe tbody tr th {\n",
       "        vertical-align: top;\n",
       "    }\n",
       "\n",
       "    .dataframe thead th {\n",
       "        text-align: right;\n",
       "    }\n",
       "</style>\n",
       "<table border=\"1\" class=\"dataframe\">\n",
       "  <thead>\n",
       "    <tr style=\"text-align: right;\">\n",
       "      <th></th>\n",
       "      <th>Timestamp</th>\n",
       "      <th>How many hours did you sleep last night?</th>\n",
       "      <th>Recognition Score</th>\n",
       "      <th>Temporal Memory Score</th>\n",
       "    </tr>\n",
       "  </thead>\n",
       "  <tbody>\n",
       "    <tr>\n",
       "      <th>0</th>\n",
       "      <td>12/11/2012 18:16:31</td>\n",
       "      <td>7.0</td>\n",
       "      <td>91</td>\n",
       "      <td>86</td>\n",
       "    </tr>\n",
       "    <tr>\n",
       "      <th>1</th>\n",
       "      <td>12/13/2012 14:31:16</td>\n",
       "      <td>6.5</td>\n",
       "      <td>95</td>\n",
       "      <td>78</td>\n",
       "    </tr>\n",
       "    <tr>\n",
       "      <th>2</th>\n",
       "      <td>12/13/2012 14:31:30</td>\n",
       "      <td>7.0</td>\n",
       "      <td>95</td>\n",
       "      <td>56</td>\n",
       "    </tr>\n",
       "    <tr>\n",
       "      <th>3</th>\n",
       "      <td>12/13/2012 14:32:01</td>\n",
       "      <td>5.0</td>\n",
       "      <td>91</td>\n",
       "      <td>81</td>\n",
       "    </tr>\n",
       "    <tr>\n",
       "      <th>4</th>\n",
       "      <td>12/13/2012 14:34:07</td>\n",
       "      <td>8.5</td>\n",
       "      <td>100</td>\n",
       "      <td>75</td>\n",
       "    </tr>\n",
       "    <tr>\n",
       "      <th>...</th>\n",
       "      <td>...</td>\n",
       "      <td>...</td>\n",
       "      <td>...</td>\n",
       "      <td>...</td>\n",
       "    </tr>\n",
       "    <tr>\n",
       "      <th>9151</th>\n",
       "      <td>3/31/2015 19:22:14</td>\n",
       "      <td>8.0</td>\n",
       "      <td>0</td>\n",
       "      <td>0</td>\n",
       "    </tr>\n",
       "    <tr>\n",
       "      <th>9152</th>\n",
       "      <td>1/11/2016 6:18:34</td>\n",
       "      <td>8.0</td>\n",
       "      <td>NaN</td>\n",
       "      <td>NaN</td>\n",
       "    </tr>\n",
       "    <tr>\n",
       "      <th>9153</th>\n",
       "      <td>5/20/2016 13:48:07</td>\n",
       "      <td>1.0</td>\n",
       "      <td>ee</td>\n",
       "      <td>ee</td>\n",
       "    </tr>\n",
       "    <tr>\n",
       "      <th>9154</th>\n",
       "      <td>9/17/2016 5:37:22</td>\n",
       "      <td>5.5</td>\n",
       "      <td>NaN</td>\n",
       "      <td>NaN</td>\n",
       "    </tr>\n",
       "    <tr>\n",
       "      <th>9155</th>\n",
       "      <td>9/17/2016 5:37:43</td>\n",
       "      <td>5.5</td>\n",
       "      <td>NaN</td>\n",
       "      <td>NaN</td>\n",
       "    </tr>\n",
       "  </tbody>\n",
       "</table>\n",
       "<p>9156 rows × 4 columns</p>\n",
       "</div>"
      ],
      "text/plain": [
       "                Timestamp  How many hours did you sleep last night?  \\\n",
       "0     12/11/2012 18:16:31                                       7.0   \n",
       "1     12/13/2012 14:31:16                                       6.5   \n",
       "2     12/13/2012 14:31:30                                       7.0   \n",
       "3     12/13/2012 14:32:01                                       5.0   \n",
       "4     12/13/2012 14:34:07                                       8.5   \n",
       "...                   ...                                       ...   \n",
       "9151   3/31/2015 19:22:14                                       8.0   \n",
       "9152    1/11/2016 6:18:34                                       8.0   \n",
       "9153   5/20/2016 13:48:07                                       1.0   \n",
       "9154    9/17/2016 5:37:22                                       5.5   \n",
       "9155    9/17/2016 5:37:43                                       5.5   \n",
       "\n",
       "     Recognition Score Temporal Memory Score  \n",
       "0                   91                    86  \n",
       "1                   95                    78  \n",
       "2                   95                    56  \n",
       "3                   91                    81  \n",
       "4                  100                    75  \n",
       "...                ...                   ...  \n",
       "9151                 0                     0  \n",
       "9152               NaN                   NaN  \n",
       "9153                ee                    ee  \n",
       "9154               NaN                   NaN  \n",
       "9155               NaN                   NaN  \n",
       "\n",
       "[9156 rows x 4 columns]"
      ]
     },
     "execution_count": 3,
     "metadata": {},
     "output_type": "execute_result"
    }
   ],
   "source": [
    "# Read the BBC sleep data into a dataframe\n",
    "sleep_data = pd.read_csv('BBC Results .csv')\n",
    "sleep_data"
   ]
  },
  {
   "cell_type": "code",
   "execution_count": 4,
   "metadata": {},
   "outputs": [
    {
     "data": {
      "text/plain": [
       "(9156, 4)"
      ]
     },
     "execution_count": 4,
     "metadata": {},
     "output_type": "execute_result"
    }
   ],
   "source": [
    "# Shape of the data\n",
    "sleep_data.shape\n",
    "\n",
    "# 9,156 rows/observations and 4 rows"
   ]
  },
  {
   "cell_type": "markdown",
   "metadata": {},
   "source": [
    "Which of the following conclusions is most likely?\n",
    "\n",
    "1. The less sleep you have, the better the memory?\n",
    "\n",
    "2. The more you sleep, the better the the memory?\n",
    "\n",
    "3. People always get the same memory score\n",
    "\n",
    "4. There is no relationship between sleep and memory "
   ]
  },
  {
   "cell_type": "code",
   "execution_count": 5,
   "metadata": {},
   "outputs": [
    {
     "name": "stdout",
     "output_type": "stream",
     "text": [
      "<class 'pandas.core.frame.DataFrame'>\n",
      "RangeIndex: 9156 entries, 0 to 9155\n",
      "Data columns (total 4 columns):\n",
      " #   Column                                    Non-Null Count  Dtype  \n",
      "---  ------                                    --------------  -----  \n",
      " 0   Timestamp                                 9156 non-null   object \n",
      " 1   How many hours did you sleep last night?  9154 non-null   float64\n",
      " 2   Recognition Score                         9097 non-null   object \n",
      " 3   Temporal Memory Score                     9083 non-null   object \n",
      "dtypes: float64(1), object(3)\n",
      "memory usage: 286.2+ KB\n"
     ]
    }
   ],
   "source": [
    "# Info of the dataframe \n",
    "sleep_data.info()"
   ]
  },
  {
   "cell_type": "markdown",
   "metadata": {},
   "source": [
    "The datatypes of the Timestamp, Recognition Score and Temporal Memory Score are objects. For an efficient analysis, the datatypes has to be converted to a proper datetime format and integer."
   ]
  },
  {
   "cell_type": "code",
   "execution_count": 6,
   "metadata": {},
   "outputs": [],
   "source": [
    "# Convert the Timestamp to datetime\n",
    "sleep_data['Timestamp'] = pd.to_datetime(sleep_data['Timestamp'])"
   ]
  },
  {
   "cell_type": "code",
   "execution_count": 7,
   "metadata": {},
   "outputs": [
    {
     "name": "stdout",
     "output_type": "stream",
     "text": [
      "<class 'pandas.core.frame.DataFrame'>\n",
      "RangeIndex: 9156 entries, 0 to 9155\n",
      "Data columns (total 4 columns):\n",
      " #   Column                                    Non-Null Count  Dtype         \n",
      "---  ------                                    --------------  -----         \n",
      " 0   Timestamp                                 9156 non-null   datetime64[ns]\n",
      " 1   How many hours did you sleep last night?  9154 non-null   float64       \n",
      " 2   Recognition Score                         9097 non-null   object        \n",
      " 3   Temporal Memory Score                     9083 non-null   object        \n",
      "dtypes: datetime64[ns](1), float64(1), object(2)\n",
      "memory usage: 286.2+ KB\n"
     ]
    }
   ],
   "source": [
    "sleep_data.info()"
   ]
  },
  {
   "cell_type": "code",
   "execution_count": 8,
   "metadata": {},
   "outputs": [
    {
     "data": {
      "text/plain": [
       "Timestamp                                    0\n",
       "How many hours did you sleep last night?     2\n",
       "Recognition Score                           59\n",
       "Temporal Memory Score                       73\n",
       "dtype: int64"
      ]
     },
     "execution_count": 8,
     "metadata": {},
     "output_type": "execute_result"
    }
   ],
   "source": [
    "# Checking for null values\n",
    "sleep_data.isnull().sum()"
   ]
  },
  {
   "cell_type": "code",
   "execution_count": 9,
   "metadata": {},
   "outputs": [],
   "source": [
    "# How to deal with missing/null/NaN values,extra values\n",
    "# The sleep_data columns contains %, this makes it difficult to convert\n",
    "sleep_data['Recognition Score'] = sleep_data['Recognition Score'].astype(str).str.replace('%', '')"
   ]
  },
  {
   "cell_type": "code",
   "execution_count": 10,
   "metadata": {},
   "outputs": [],
   "source": [
    "sleep_data['Temporal Memory Score'] = sleep_data['Temporal Memory Score'].astype(str).str.replace('%', '')"
   ]
  },
  {
   "cell_type": "code",
   "execution_count": 11,
   "metadata": {},
   "outputs": [],
   "source": [
    "# Converted object to numeric using the flag errors='coerce'\n",
    "sleep_data['Recognition Score'] = pd.to_numeric(sleep_data['Recognition Score'], errors='coerce')"
   ]
  },
  {
   "cell_type": "code",
   "execution_count": 12,
   "metadata": {},
   "outputs": [],
   "source": [
    "sleep_data['Temporal Memory Score'] = pd.to_numeric(sleep_data['Temporal Memory Score'], errors='coerce')"
   ]
  },
  {
   "cell_type": "code",
   "execution_count": 13,
   "metadata": {},
   "outputs": [
    {
     "name": "stdout",
     "output_type": "stream",
     "text": [
      "<class 'pandas.core.frame.DataFrame'>\n",
      "RangeIndex: 9156 entries, 0 to 9155\n",
      "Data columns (total 4 columns):\n",
      " #   Column                                    Non-Null Count  Dtype         \n",
      "---  ------                                    --------------  -----         \n",
      " 0   Timestamp                                 9156 non-null   datetime64[ns]\n",
      " 1   How many hours did you sleep last night?  9154 non-null   float64       \n",
      " 2   Recognition Score                         9092 non-null   float64       \n",
      " 3   Temporal Memory Score                     9077 non-null   float64       \n",
      "dtypes: datetime64[ns](1), float64(3)\n",
      "memory usage: 286.2 KB\n"
     ]
    }
   ],
   "source": [
    "sleep_data.info()"
   ]
  },
  {
   "cell_type": "code",
   "execution_count": 14,
   "metadata": {},
   "outputs": [
    {
     "data": {
      "text/plain": [
       "Timestamp                                    0\n",
       "How many hours did you sleep last night?     2\n",
       "Recognition Score                           64\n",
       "Temporal Memory Score                       79\n",
       "dtype: int64"
      ]
     },
     "execution_count": 14,
     "metadata": {},
     "output_type": "execute_result"
    }
   ],
   "source": [
    "# Checking for null values\n",
    "sleep_data.isnull().sum()"
   ]
  },
  {
   "cell_type": "code",
   "execution_count": 15,
   "metadata": {},
   "outputs": [
    {
     "data": {
      "text/html": [
       "<div>\n",
       "<style scoped>\n",
       "    .dataframe tbody tr th:only-of-type {\n",
       "        vertical-align: middle;\n",
       "    }\n",
       "\n",
       "    .dataframe tbody tr th {\n",
       "        vertical-align: top;\n",
       "    }\n",
       "\n",
       "    .dataframe thead th {\n",
       "        text-align: right;\n",
       "    }\n",
       "</style>\n",
       "<table border=\"1\" class=\"dataframe\">\n",
       "  <thead>\n",
       "    <tr style=\"text-align: right;\">\n",
       "      <th></th>\n",
       "      <th>Timestamp</th>\n",
       "      <th>How many hours did you sleep last night?</th>\n",
       "      <th>Recognition Score</th>\n",
       "      <th>Temporal Memory Score</th>\n",
       "    </tr>\n",
       "  </thead>\n",
       "  <tbody>\n",
       "    <tr>\n",
       "      <th>0</th>\n",
       "      <td>2012-12-11 18:16:31</td>\n",
       "      <td>7.0</td>\n",
       "      <td>91.0</td>\n",
       "      <td>86.0</td>\n",
       "    </tr>\n",
       "    <tr>\n",
       "      <th>1</th>\n",
       "      <td>2012-12-13 14:31:16</td>\n",
       "      <td>6.5</td>\n",
       "      <td>95.0</td>\n",
       "      <td>78.0</td>\n",
       "    </tr>\n",
       "    <tr>\n",
       "      <th>2</th>\n",
       "      <td>2012-12-13 14:31:30</td>\n",
       "      <td>7.0</td>\n",
       "      <td>95.0</td>\n",
       "      <td>56.0</td>\n",
       "    </tr>\n",
       "    <tr>\n",
       "      <th>3</th>\n",
       "      <td>2012-12-13 14:32:01</td>\n",
       "      <td>5.0</td>\n",
       "      <td>91.0</td>\n",
       "      <td>81.0</td>\n",
       "    </tr>\n",
       "    <tr>\n",
       "      <th>4</th>\n",
       "      <td>2012-12-13 14:34:07</td>\n",
       "      <td>8.5</td>\n",
       "      <td>100.0</td>\n",
       "      <td>75.0</td>\n",
       "    </tr>\n",
       "    <tr>\n",
       "      <th>...</th>\n",
       "      <td>...</td>\n",
       "      <td>...</td>\n",
       "      <td>...</td>\n",
       "      <td>...</td>\n",
       "    </tr>\n",
       "    <tr>\n",
       "      <th>9151</th>\n",
       "      <td>2015-03-31 19:22:14</td>\n",
       "      <td>8.0</td>\n",
       "      <td>0.0</td>\n",
       "      <td>0.0</td>\n",
       "    </tr>\n",
       "    <tr>\n",
       "      <th>9152</th>\n",
       "      <td>2016-01-11 06:18:34</td>\n",
       "      <td>8.0</td>\n",
       "      <td>NaN</td>\n",
       "      <td>NaN</td>\n",
       "    </tr>\n",
       "    <tr>\n",
       "      <th>9153</th>\n",
       "      <td>2016-05-20 13:48:07</td>\n",
       "      <td>1.0</td>\n",
       "      <td>NaN</td>\n",
       "      <td>NaN</td>\n",
       "    </tr>\n",
       "    <tr>\n",
       "      <th>9154</th>\n",
       "      <td>2016-09-17 05:37:22</td>\n",
       "      <td>5.5</td>\n",
       "      <td>NaN</td>\n",
       "      <td>NaN</td>\n",
       "    </tr>\n",
       "    <tr>\n",
       "      <th>9155</th>\n",
       "      <td>2016-09-17 05:37:43</td>\n",
       "      <td>5.5</td>\n",
       "      <td>NaN</td>\n",
       "      <td>NaN</td>\n",
       "    </tr>\n",
       "  </tbody>\n",
       "</table>\n",
       "<p>9156 rows × 4 columns</p>\n",
       "</div>"
      ],
      "text/plain": [
       "               Timestamp  How many hours did you sleep last night?  \\\n",
       "0    2012-12-11 18:16:31                                       7.0   \n",
       "1    2012-12-13 14:31:16                                       6.5   \n",
       "2    2012-12-13 14:31:30                                       7.0   \n",
       "3    2012-12-13 14:32:01                                       5.0   \n",
       "4    2012-12-13 14:34:07                                       8.5   \n",
       "...                  ...                                       ...   \n",
       "9151 2015-03-31 19:22:14                                       8.0   \n",
       "9152 2016-01-11 06:18:34                                       8.0   \n",
       "9153 2016-05-20 13:48:07                                       1.0   \n",
       "9154 2016-09-17 05:37:22                                       5.5   \n",
       "9155 2016-09-17 05:37:43                                       5.5   \n",
       "\n",
       "      Recognition Score  Temporal Memory Score  \n",
       "0                  91.0                   86.0  \n",
       "1                  95.0                   78.0  \n",
       "2                  95.0                   56.0  \n",
       "3                  91.0                   81.0  \n",
       "4                 100.0                   75.0  \n",
       "...                 ...                    ...  \n",
       "9151                0.0                    0.0  \n",
       "9152                NaN                    NaN  \n",
       "9153                NaN                    NaN  \n",
       "9154                NaN                    NaN  \n",
       "9155                NaN                    NaN  \n",
       "\n",
       "[9156 rows x 4 columns]"
      ]
     },
     "execution_count": 15,
     "metadata": {},
     "output_type": "execute_result"
    }
   ],
   "source": [
    "sleep_data"
   ]
  },
  {
   "cell_type": "code",
   "execution_count": 16,
   "metadata": {},
   "outputs": [
    {
     "data": {
      "text/html": [
       "<div>\n",
       "<style scoped>\n",
       "    .dataframe tbody tr th:only-of-type {\n",
       "        vertical-align: middle;\n",
       "    }\n",
       "\n",
       "    .dataframe tbody tr th {\n",
       "        vertical-align: top;\n",
       "    }\n",
       "\n",
       "    .dataframe thead th {\n",
       "        text-align: right;\n",
       "    }\n",
       "</style>\n",
       "<table border=\"1\" class=\"dataframe\">\n",
       "  <thead>\n",
       "    <tr style=\"text-align: right;\">\n",
       "      <th></th>\n",
       "      <th>How many hours did you sleep last night?</th>\n",
       "      <th>Recognition Score</th>\n",
       "      <th>Temporal Memory Score</th>\n",
       "    </tr>\n",
       "  </thead>\n",
       "  <tbody>\n",
       "    <tr>\n",
       "      <th>count</th>\n",
       "      <td>9154.000000</td>\n",
       "      <td>9092.000000</td>\n",
       "      <td>9077.000000</td>\n",
       "    </tr>\n",
       "    <tr>\n",
       "      <th>mean</th>\n",
       "      <td>6.696308</td>\n",
       "      <td>92.174456</td>\n",
       "      <td>78.470823</td>\n",
       "    </tr>\n",
       "    <tr>\n",
       "      <th>std</th>\n",
       "      <td>2.277370</td>\n",
       "      <td>20.503720</td>\n",
       "      <td>15.473231</td>\n",
       "    </tr>\n",
       "    <tr>\n",
       "      <th>min</th>\n",
       "      <td>0.000000</td>\n",
       "      <td>0.000000</td>\n",
       "      <td>0.000000</td>\n",
       "    </tr>\n",
       "    <tr>\n",
       "      <th>25%</th>\n",
       "      <td>6.000000</td>\n",
       "      <td>87.000000</td>\n",
       "      <td>70.000000</td>\n",
       "    </tr>\n",
       "    <tr>\n",
       "      <th>50%</th>\n",
       "      <td>7.000000</td>\n",
       "      <td>92.000000</td>\n",
       "      <td>80.000000</td>\n",
       "    </tr>\n",
       "    <tr>\n",
       "      <th>75%</th>\n",
       "      <td>8.000000</td>\n",
       "      <td>100.000000</td>\n",
       "      <td>87.000000</td>\n",
       "    </tr>\n",
       "    <tr>\n",
       "      <th>max</th>\n",
       "      <td>23.500000</td>\n",
       "      <td>200.000000</td>\n",
       "      <td>789.000000</td>\n",
       "    </tr>\n",
       "  </tbody>\n",
       "</table>\n",
       "</div>"
      ],
      "text/plain": [
       "       How many hours did you sleep last night?  Recognition Score  \\\n",
       "count                               9154.000000        9092.000000   \n",
       "mean                                   6.696308          92.174456   \n",
       "std                                    2.277370          20.503720   \n",
       "min                                    0.000000           0.000000   \n",
       "25%                                    6.000000          87.000000   \n",
       "50%                                    7.000000          92.000000   \n",
       "75%                                    8.000000         100.000000   \n",
       "max                                   23.500000         200.000000   \n",
       "\n",
       "       Temporal Memory Score  \n",
       "count            9077.000000  \n",
       "mean               78.470823  \n",
       "std                15.473231  \n",
       "min                 0.000000  \n",
       "25%                70.000000  \n",
       "50%                80.000000  \n",
       "75%                87.000000  \n",
       "max               789.000000  "
      ]
     },
     "execution_count": 16,
     "metadata": {},
     "output_type": "execute_result"
    }
   ],
   "source": [
    "sleep_data.describe()"
   ]
  },
  {
   "cell_type": "code",
   "execution_count": null,
   "metadata": {},
   "outputs": [],
   "source": []
  }
 ],
 "metadata": {
  "kernelspec": {
   "display_name": "Python 3",
   "language": "python",
   "name": "python3"
  },
  "language_info": {
   "codemirror_mode": {
    "name": "ipython",
    "version": 3
   },
   "file_extension": ".py",
   "mimetype": "text/x-python",
   "name": "python",
   "nbconvert_exporter": "python",
   "pygments_lexer": "ipython3",
   "version": "3.8.5"
  }
 },
 "nbformat": 4,
 "nbformat_minor": 4
}
